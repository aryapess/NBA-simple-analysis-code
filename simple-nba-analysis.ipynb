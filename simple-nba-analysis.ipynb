{
 "cells": [
  {
   "cell_type": "markdown",
   "id": "78fadac7",
   "metadata": {
    "_cell_guid": "b1076dfc-b9ad-4769-8c92-a6c4dae69d19",
    "_uuid": "8f2839f25d086af736a60e9eeb907d3b93b6e0e5",
    "papermill": {
     "duration": 0.040501,
     "end_time": "2022-01-03T01:05:37.320590",
     "exception": false,
     "start_time": "2022-01-03T01:05:37.280089",
     "status": "completed"
    },
    "tags": []
   },
   "source": [
    "Hello! My name is Aria and I'm a big NBA fan. That's why I decided working on different cool things with NBA-related datasets. I hope you enjoy this notebook. This notebook is performed on a dataset which consists information about the performance of a single players in a NBA match,including his team, different kind of shots attempts and shots made, rebounds and etc. Lets import necessary libraries and observe the first few rows."
   ]
  },
  {
   "cell_type": "code",
   "execution_count": 1,
   "id": "0701052b",
   "metadata": {
    "execution": {
     "iopub.execute_input": "2022-01-03T01:05:37.407582Z",
     "iopub.status.busy": "2022-01-03T01:05:37.406958Z",
     "iopub.status.idle": "2022-01-03T01:05:40.380831Z",
     "shell.execute_reply": "2022-01-03T01:05:40.380243Z",
     "shell.execute_reply.started": "2022-01-02T23:32:59.184763Z"
    },
    "papermill": {
     "duration": 3.021148,
     "end_time": "2022-01-03T01:05:40.380985",
     "exception": false,
     "start_time": "2022-01-03T01:05:37.359837",
     "status": "completed"
    },
    "tags": []
   },
   "outputs": [
    {
     "data": {
      "text/html": [
       "<div>\n",
       "<style scoped>\n",
       "    .dataframe tbody tr th:only-of-type {\n",
       "        vertical-align: middle;\n",
       "    }\n",
       "\n",
       "    .dataframe tbody tr th {\n",
       "        vertical-align: top;\n",
       "    }\n",
       "\n",
       "    .dataframe thead th {\n",
       "        text-align: right;\n",
       "    }\n",
       "</style>\n",
       "<table border=\"1\" class=\"dataframe\">\n",
       "  <thead>\n",
       "    <tr style=\"text-align: right;\">\n",
       "      <th></th>\n",
       "      <th>GAME_ID</th>\n",
       "      <th>TEAM_ID</th>\n",
       "      <th>TEAM_ABBREVIATION</th>\n",
       "      <th>TEAM_CITY</th>\n",
       "      <th>PLAYER_ID</th>\n",
       "      <th>PLAYER_NAME</th>\n",
       "      <th>START_POSITION</th>\n",
       "      <th>COMMENT</th>\n",
       "      <th>MIN</th>\n",
       "      <th>FGM</th>\n",
       "      <th>...</th>\n",
       "      <th>OREB</th>\n",
       "      <th>DREB</th>\n",
       "      <th>REB</th>\n",
       "      <th>AST</th>\n",
       "      <th>STL</th>\n",
       "      <th>BLK</th>\n",
       "      <th>TO</th>\n",
       "      <th>PF</th>\n",
       "      <th>PTS</th>\n",
       "      <th>PLUS_MINUS</th>\n",
       "    </tr>\n",
       "  </thead>\n",
       "  <tbody>\n",
       "    <tr>\n",
       "      <th>0</th>\n",
       "      <td>42000102</td>\n",
       "      <td>1610612764</td>\n",
       "      <td>WAS</td>\n",
       "      <td>Washington</td>\n",
       "      <td>203078</td>\n",
       "      <td>Bradley Beal</td>\n",
       "      <td>F</td>\n",
       "      <td>NaN</td>\n",
       "      <td>34:36</td>\n",
       "      <td>14.0</td>\n",
       "      <td>...</td>\n",
       "      <td>0.0</td>\n",
       "      <td>4.0</td>\n",
       "      <td>4.0</td>\n",
       "      <td>3.0</td>\n",
       "      <td>1.0</td>\n",
       "      <td>0.0</td>\n",
       "      <td>1.0</td>\n",
       "      <td>0.0</td>\n",
       "      <td>33.0</td>\n",
       "      <td>-22.0</td>\n",
       "    </tr>\n",
       "    <tr>\n",
       "      <th>1</th>\n",
       "      <td>42000102</td>\n",
       "      <td>1610612764</td>\n",
       "      <td>WAS</td>\n",
       "      <td>Washington</td>\n",
       "      <td>1629060</td>\n",
       "      <td>Rui Hachimura</td>\n",
       "      <td>F</td>\n",
       "      <td>NaN</td>\n",
       "      <td>25:50</td>\n",
       "      <td>4.0</td>\n",
       "      <td>...</td>\n",
       "      <td>2.0</td>\n",
       "      <td>5.0</td>\n",
       "      <td>7.0</td>\n",
       "      <td>1.0</td>\n",
       "      <td>0.0</td>\n",
       "      <td>0.0</td>\n",
       "      <td>3.0</td>\n",
       "      <td>4.0</td>\n",
       "      <td>11.0</td>\n",
       "      <td>-6.0</td>\n",
       "    </tr>\n",
       "    <tr>\n",
       "      <th>2</th>\n",
       "      <td>42000102</td>\n",
       "      <td>1610612764</td>\n",
       "      <td>WAS</td>\n",
       "      <td>Washington</td>\n",
       "      <td>203458</td>\n",
       "      <td>Alex Len</td>\n",
       "      <td>C</td>\n",
       "      <td>NaN</td>\n",
       "      <td>12:11</td>\n",
       "      <td>3.0</td>\n",
       "      <td>...</td>\n",
       "      <td>3.0</td>\n",
       "      <td>2.0</td>\n",
       "      <td>5.0</td>\n",
       "      <td>0.0</td>\n",
       "      <td>1.0</td>\n",
       "      <td>0.0</td>\n",
       "      <td>0.0</td>\n",
       "      <td>2.0</td>\n",
       "      <td>6.0</td>\n",
       "      <td>-11.0</td>\n",
       "    </tr>\n",
       "    <tr>\n",
       "      <th>3</th>\n",
       "      <td>42000102</td>\n",
       "      <td>1610612764</td>\n",
       "      <td>WAS</td>\n",
       "      <td>Washington</td>\n",
       "      <td>203526</td>\n",
       "      <td>Raul Neto</td>\n",
       "      <td>G</td>\n",
       "      <td>NaN</td>\n",
       "      <td>19:19</td>\n",
       "      <td>2.0</td>\n",
       "      <td>...</td>\n",
       "      <td>1.0</td>\n",
       "      <td>2.0</td>\n",
       "      <td>3.0</td>\n",
       "      <td>1.0</td>\n",
       "      <td>0.0</td>\n",
       "      <td>0.0</td>\n",
       "      <td>0.0</td>\n",
       "      <td>2.0</td>\n",
       "      <td>4.0</td>\n",
       "      <td>-17.0</td>\n",
       "    </tr>\n",
       "    <tr>\n",
       "      <th>4</th>\n",
       "      <td>42000102</td>\n",
       "      <td>1610612764</td>\n",
       "      <td>WAS</td>\n",
       "      <td>Washington</td>\n",
       "      <td>201566</td>\n",
       "      <td>Russell Westbrook</td>\n",
       "      <td>G</td>\n",
       "      <td>NaN</td>\n",
       "      <td>29:07</td>\n",
       "      <td>2.0</td>\n",
       "      <td>...</td>\n",
       "      <td>2.0</td>\n",
       "      <td>4.0</td>\n",
       "      <td>6.0</td>\n",
       "      <td>11.0</td>\n",
       "      <td>0.0</td>\n",
       "      <td>0.0</td>\n",
       "      <td>4.0</td>\n",
       "      <td>0.0</td>\n",
       "      <td>10.0</td>\n",
       "      <td>-16.0</td>\n",
       "    </tr>\n",
       "  </tbody>\n",
       "</table>\n",
       "<p>5 rows × 28 columns</p>\n",
       "</div>"
      ],
      "text/plain": [
       "    GAME_ID     TEAM_ID TEAM_ABBREVIATION   TEAM_CITY  PLAYER_ID  \\\n",
       "0  42000102  1610612764               WAS  Washington     203078   \n",
       "1  42000102  1610612764               WAS  Washington    1629060   \n",
       "2  42000102  1610612764               WAS  Washington     203458   \n",
       "3  42000102  1610612764               WAS  Washington     203526   \n",
       "4  42000102  1610612764               WAS  Washington     201566   \n",
       "\n",
       "         PLAYER_NAME START_POSITION COMMENT    MIN   FGM  ...  OREB  DREB  \\\n",
       "0       Bradley Beal              F     NaN  34:36  14.0  ...   0.0   4.0   \n",
       "1      Rui Hachimura              F     NaN  25:50   4.0  ...   2.0   5.0   \n",
       "2           Alex Len              C     NaN  12:11   3.0  ...   3.0   2.0   \n",
       "3          Raul Neto              G     NaN  19:19   2.0  ...   1.0   2.0   \n",
       "4  Russell Westbrook              G     NaN  29:07   2.0  ...   2.0   4.0   \n",
       "\n",
       "   REB   AST  STL  BLK   TO   PF   PTS  PLUS_MINUS  \n",
       "0  4.0   3.0  1.0  0.0  1.0  0.0  33.0       -22.0  \n",
       "1  7.0   1.0  0.0  0.0  3.0  4.0  11.0        -6.0  \n",
       "2  5.0   0.0  1.0  0.0  0.0  2.0   6.0       -11.0  \n",
       "3  3.0   1.0  0.0  0.0  0.0  2.0   4.0       -17.0  \n",
       "4  6.0  11.0  0.0  0.0  4.0  0.0  10.0       -16.0  \n",
       "\n",
       "[5 rows x 28 columns]"
      ]
     },
     "execution_count": 1,
     "metadata": {},
     "output_type": "execute_result"
    }
   ],
   "source": [
    "import numpy as np\n",
    "import pandas as pd\n",
    "import matplotlib.pyplot as plt\n",
    "data=pd.read_csv('../input/game-detailscsv/games_details.csv')\n",
    "data1=data.copy()  #have a copy to avoid manipulating original dataset\n",
    "data.head()"
   ]
  },
  {
   "cell_type": "markdown",
   "id": "561f9a59",
   "metadata": {
    "papermill": {
     "duration": 0.040967,
     "end_time": "2022-01-03T01:05:40.462295",
     "exception": false,
     "start_time": "2022-01-03T01:05:40.421328",
     "status": "completed"
    },
    "tags": []
   },
   "source": [
    "as you can see, this dataset has 28 columns and not all of them are visible on the screen. So I take a look at first 14 columns and seconds 14 columns seperately to see what columns we have, and then I will do some adjustments on so,"
   ]
  },
  {
   "cell_type": "code",
   "execution_count": 2,
   "id": "c444d04e",
   "metadata": {
    "execution": {
     "iopub.execute_input": "2022-01-03T01:05:40.613292Z",
     "iopub.status.busy": "2022-01-03T01:05:40.612634Z",
     "iopub.status.idle": "2022-01-03T01:05:40.617775Z",
     "shell.execute_reply": "2022-01-03T01:05:40.618226Z",
     "shell.execute_reply.started": "2022-01-02T20:18:24.483882Z"
    },
    "papermill": {
     "duration": 0.113695,
     "end_time": "2022-01-03T01:05:40.618382",
     "exception": false,
     "start_time": "2022-01-03T01:05:40.504687",
     "status": "completed"
    },
    "tags": []
   },
   "outputs": [
    {
     "data": {
      "text/html": [
       "<div>\n",
       "<style scoped>\n",
       "    .dataframe tbody tr th:only-of-type {\n",
       "        vertical-align: middle;\n",
       "    }\n",
       "\n",
       "    .dataframe tbody tr th {\n",
       "        vertical-align: top;\n",
       "    }\n",
       "\n",
       "    .dataframe thead th {\n",
       "        text-align: right;\n",
       "    }\n",
       "</style>\n",
       "<table border=\"1\" class=\"dataframe\">\n",
       "  <thead>\n",
       "    <tr style=\"text-align: right;\">\n",
       "      <th></th>\n",
       "      <th>GAME_ID</th>\n",
       "      <th>TEAM_ID</th>\n",
       "      <th>TEAM_ABBREVIATION</th>\n",
       "      <th>TEAM_CITY</th>\n",
       "      <th>PLAYER_ID</th>\n",
       "      <th>PLAYER_NAME</th>\n",
       "      <th>START_POSITION</th>\n",
       "      <th>COMMENT</th>\n",
       "      <th>MIN</th>\n",
       "      <th>FGM</th>\n",
       "      <th>FGA</th>\n",
       "      <th>FG_PCT</th>\n",
       "      <th>FG3M</th>\n",
       "      <th>FG3A</th>\n",
       "      <th>FG3_PCT</th>\n",
       "    </tr>\n",
       "  </thead>\n",
       "  <tbody>\n",
       "    <tr>\n",
       "      <th>0</th>\n",
       "      <td>42000102</td>\n",
       "      <td>1610612764</td>\n",
       "      <td>WAS</td>\n",
       "      <td>Washington</td>\n",
       "      <td>203078</td>\n",
       "      <td>Bradley Beal</td>\n",
       "      <td>F</td>\n",
       "      <td>NaN</td>\n",
       "      <td>34:36</td>\n",
       "      <td>14.0</td>\n",
       "      <td>28.0</td>\n",
       "      <td>0.500</td>\n",
       "      <td>1.0</td>\n",
       "      <td>6.0</td>\n",
       "      <td>0.167</td>\n",
       "    </tr>\n",
       "    <tr>\n",
       "      <th>1</th>\n",
       "      <td>42000102</td>\n",
       "      <td>1610612764</td>\n",
       "      <td>WAS</td>\n",
       "      <td>Washington</td>\n",
       "      <td>1629060</td>\n",
       "      <td>Rui Hachimura</td>\n",
       "      <td>F</td>\n",
       "      <td>NaN</td>\n",
       "      <td>25:50</td>\n",
       "      <td>4.0</td>\n",
       "      <td>6.0</td>\n",
       "      <td>0.667</td>\n",
       "      <td>1.0</td>\n",
       "      <td>1.0</td>\n",
       "      <td>1.000</td>\n",
       "    </tr>\n",
       "    <tr>\n",
       "      <th>2</th>\n",
       "      <td>42000102</td>\n",
       "      <td>1610612764</td>\n",
       "      <td>WAS</td>\n",
       "      <td>Washington</td>\n",
       "      <td>203458</td>\n",
       "      <td>Alex Len</td>\n",
       "      <td>C</td>\n",
       "      <td>NaN</td>\n",
       "      <td>12:11</td>\n",
       "      <td>3.0</td>\n",
       "      <td>5.0</td>\n",
       "      <td>0.600</td>\n",
       "      <td>0.0</td>\n",
       "      <td>0.0</td>\n",
       "      <td>0.000</td>\n",
       "    </tr>\n",
       "    <tr>\n",
       "      <th>3</th>\n",
       "      <td>42000102</td>\n",
       "      <td>1610612764</td>\n",
       "      <td>WAS</td>\n",
       "      <td>Washington</td>\n",
       "      <td>203526</td>\n",
       "      <td>Raul Neto</td>\n",
       "      <td>G</td>\n",
       "      <td>NaN</td>\n",
       "      <td>19:19</td>\n",
       "      <td>2.0</td>\n",
       "      <td>5.0</td>\n",
       "      <td>0.400</td>\n",
       "      <td>0.0</td>\n",
       "      <td>2.0</td>\n",
       "      <td>0.000</td>\n",
       "    </tr>\n",
       "    <tr>\n",
       "      <th>4</th>\n",
       "      <td>42000102</td>\n",
       "      <td>1610612764</td>\n",
       "      <td>WAS</td>\n",
       "      <td>Washington</td>\n",
       "      <td>201566</td>\n",
       "      <td>Russell Westbrook</td>\n",
       "      <td>G</td>\n",
       "      <td>NaN</td>\n",
       "      <td>29:07</td>\n",
       "      <td>2.0</td>\n",
       "      <td>10.0</td>\n",
       "      <td>0.200</td>\n",
       "      <td>0.0</td>\n",
       "      <td>3.0</td>\n",
       "      <td>0.000</td>\n",
       "    </tr>\n",
       "  </tbody>\n",
       "</table>\n",
       "</div>"
      ],
      "text/plain": [
       "    GAME_ID     TEAM_ID TEAM_ABBREVIATION   TEAM_CITY  PLAYER_ID  \\\n",
       "0  42000102  1610612764               WAS  Washington     203078   \n",
       "1  42000102  1610612764               WAS  Washington    1629060   \n",
       "2  42000102  1610612764               WAS  Washington     203458   \n",
       "3  42000102  1610612764               WAS  Washington     203526   \n",
       "4  42000102  1610612764               WAS  Washington     201566   \n",
       "\n",
       "         PLAYER_NAME START_POSITION COMMENT    MIN   FGM   FGA  FG_PCT  FG3M  \\\n",
       "0       Bradley Beal              F     NaN  34:36  14.0  28.0   0.500   1.0   \n",
       "1      Rui Hachimura              F     NaN  25:50   4.0   6.0   0.667   1.0   \n",
       "2           Alex Len              C     NaN  12:11   3.0   5.0   0.600   0.0   \n",
       "3          Raul Neto              G     NaN  19:19   2.0   5.0   0.400   0.0   \n",
       "4  Russell Westbrook              G     NaN  29:07   2.0  10.0   0.200   0.0   \n",
       "\n",
       "   FG3A  FG3_PCT  \n",
       "0   6.0    0.167  \n",
       "1   1.0    1.000  \n",
       "2   0.0    0.000  \n",
       "3   2.0    0.000  \n",
       "4   3.0    0.000  "
      ]
     },
     "execution_count": 2,
     "metadata": {},
     "output_type": "execute_result"
    }
   ],
   "source": [
    "data1.iloc[:,0:15].head()"
   ]
  },
  {
   "cell_type": "code",
   "execution_count": 3,
   "id": "56b7374d",
   "metadata": {
    "execution": {
     "iopub.execute_input": "2022-01-03T01:05:40.736872Z",
     "iopub.status.busy": "2022-01-03T01:05:40.736207Z",
     "iopub.status.idle": "2022-01-03T01:05:40.755500Z",
     "shell.execute_reply": "2022-01-03T01:05:40.756039Z",
     "shell.execute_reply.started": "2022-01-02T20:18:30.966842Z"
    },
    "papermill": {
     "duration": 0.09413,
     "end_time": "2022-01-03T01:05:40.756201",
     "exception": false,
     "start_time": "2022-01-03T01:05:40.662071",
     "status": "completed"
    },
    "tags": []
   },
   "outputs": [
    {
     "data": {
      "text/html": [
       "<div>\n",
       "<style scoped>\n",
       "    .dataframe tbody tr th:only-of-type {\n",
       "        vertical-align: middle;\n",
       "    }\n",
       "\n",
       "    .dataframe tbody tr th {\n",
       "        vertical-align: top;\n",
       "    }\n",
       "\n",
       "    .dataframe thead th {\n",
       "        text-align: right;\n",
       "    }\n",
       "</style>\n",
       "<table border=\"1\" class=\"dataframe\">\n",
       "  <thead>\n",
       "    <tr style=\"text-align: right;\">\n",
       "      <th></th>\n",
       "      <th>FTM</th>\n",
       "      <th>FTA</th>\n",
       "      <th>FT_PCT</th>\n",
       "      <th>OREB</th>\n",
       "      <th>DREB</th>\n",
       "      <th>REB</th>\n",
       "      <th>AST</th>\n",
       "      <th>STL</th>\n",
       "      <th>BLK</th>\n",
       "      <th>TO</th>\n",
       "      <th>PF</th>\n",
       "      <th>PTS</th>\n",
       "      <th>PLUS_MINUS</th>\n",
       "    </tr>\n",
       "  </thead>\n",
       "  <tbody>\n",
       "    <tr>\n",
       "      <th>0</th>\n",
       "      <td>4.0</td>\n",
       "      <td>6.0</td>\n",
       "      <td>0.667</td>\n",
       "      <td>0.0</td>\n",
       "      <td>4.0</td>\n",
       "      <td>4.0</td>\n",
       "      <td>3.0</td>\n",
       "      <td>1.0</td>\n",
       "      <td>0.0</td>\n",
       "      <td>1.0</td>\n",
       "      <td>0.0</td>\n",
       "      <td>33.0</td>\n",
       "      <td>-22.0</td>\n",
       "    </tr>\n",
       "    <tr>\n",
       "      <th>1</th>\n",
       "      <td>2.0</td>\n",
       "      <td>3.0</td>\n",
       "      <td>0.667</td>\n",
       "      <td>2.0</td>\n",
       "      <td>5.0</td>\n",
       "      <td>7.0</td>\n",
       "      <td>1.0</td>\n",
       "      <td>0.0</td>\n",
       "      <td>0.0</td>\n",
       "      <td>3.0</td>\n",
       "      <td>4.0</td>\n",
       "      <td>11.0</td>\n",
       "      <td>-6.0</td>\n",
       "    </tr>\n",
       "    <tr>\n",
       "      <th>2</th>\n",
       "      <td>0.0</td>\n",
       "      <td>0.0</td>\n",
       "      <td>0.000</td>\n",
       "      <td>3.0</td>\n",
       "      <td>2.0</td>\n",
       "      <td>5.0</td>\n",
       "      <td>0.0</td>\n",
       "      <td>1.0</td>\n",
       "      <td>0.0</td>\n",
       "      <td>0.0</td>\n",
       "      <td>2.0</td>\n",
       "      <td>6.0</td>\n",
       "      <td>-11.0</td>\n",
       "    </tr>\n",
       "    <tr>\n",
       "      <th>3</th>\n",
       "      <td>0.0</td>\n",
       "      <td>0.0</td>\n",
       "      <td>0.000</td>\n",
       "      <td>1.0</td>\n",
       "      <td>2.0</td>\n",
       "      <td>3.0</td>\n",
       "      <td>1.0</td>\n",
       "      <td>0.0</td>\n",
       "      <td>0.0</td>\n",
       "      <td>0.0</td>\n",
       "      <td>2.0</td>\n",
       "      <td>4.0</td>\n",
       "      <td>-17.0</td>\n",
       "    </tr>\n",
       "    <tr>\n",
       "      <th>4</th>\n",
       "      <td>6.0</td>\n",
       "      <td>10.0</td>\n",
       "      <td>0.600</td>\n",
       "      <td>2.0</td>\n",
       "      <td>4.0</td>\n",
       "      <td>6.0</td>\n",
       "      <td>11.0</td>\n",
       "      <td>0.0</td>\n",
       "      <td>0.0</td>\n",
       "      <td>4.0</td>\n",
       "      <td>0.0</td>\n",
       "      <td>10.0</td>\n",
       "      <td>-16.0</td>\n",
       "    </tr>\n",
       "  </tbody>\n",
       "</table>\n",
       "</div>"
      ],
      "text/plain": [
       "   FTM   FTA  FT_PCT  OREB  DREB  REB   AST  STL  BLK   TO   PF   PTS  \\\n",
       "0  4.0   6.0   0.667   0.0   4.0  4.0   3.0  1.0  0.0  1.0  0.0  33.0   \n",
       "1  2.0   3.0   0.667   2.0   5.0  7.0   1.0  0.0  0.0  3.0  4.0  11.0   \n",
       "2  0.0   0.0   0.000   3.0   2.0  5.0   0.0  1.0  0.0  0.0  2.0   6.0   \n",
       "3  0.0   0.0   0.000   1.0   2.0  3.0   1.0  0.0  0.0  0.0  2.0   4.0   \n",
       "4  6.0  10.0   0.600   2.0   4.0  6.0  11.0  0.0  0.0  4.0  0.0  10.0   \n",
       "\n",
       "   PLUS_MINUS  \n",
       "0       -22.0  \n",
       "1        -6.0  \n",
       "2       -11.0  \n",
       "3       -17.0  \n",
       "4       -16.0  "
      ]
     },
     "execution_count": 3,
     "metadata": {},
     "output_type": "execute_result"
    }
   ],
   "source": [
    "data1.iloc[:,15:28].head()"
   ]
  },
  {
   "cell_type": "markdown",
   "id": "8af611d8",
   "metadata": {
    "papermill": {
     "duration": 0.041516,
     "end_time": "2022-01-03T01:05:40.839139",
     "exception": false,
     "start_time": "2022-01-03T01:05:40.797623",
     "status": "completed"
    },
    "tags": []
   },
   "source": [
    "Now, we have a better grasp of what our columns indicate. Some columns might be useless e.g. Team_ID or even TEAM_CITY! At the other hand, some columns (features) might be redundant. For example, FT_PCT (free throw percentage) is naturally equal to FTM/FTA (free throw made/free throw attempt), so it doesn't give new insights. Lets rename some of the columns with long names and drop some trivia columns."
   ]
  },
  {
   "cell_type": "code",
   "execution_count": 4,
   "id": "a3ac3be6",
   "metadata": {
    "execution": {
     "iopub.execute_input": "2022-01-03T01:05:40.927372Z",
     "iopub.status.busy": "2022-01-03T01:05:40.924876Z",
     "iopub.status.idle": "2022-01-03T01:05:41.128958Z",
     "shell.execute_reply": "2022-01-03T01:05:41.128395Z",
     "shell.execute_reply.started": "2022-01-02T23:33:42.928500Z"
    },
    "papermill": {
     "duration": 0.248322,
     "end_time": "2022-01-03T01:05:41.129104",
     "exception": false,
     "start_time": "2022-01-03T01:05:40.880782",
     "status": "completed"
    },
    "tags": []
   },
   "outputs": [
    {
     "data": {
      "text/html": [
       "<div>\n",
       "<style scoped>\n",
       "    .dataframe tbody tr th:only-of-type {\n",
       "        vertical-align: middle;\n",
       "    }\n",
       "\n",
       "    .dataframe tbody tr th {\n",
       "        vertical-align: top;\n",
       "    }\n",
       "\n",
       "    .dataframe thead th {\n",
       "        text-align: right;\n",
       "    }\n",
       "</style>\n",
       "<table border=\"1\" class=\"dataframe\">\n",
       "  <thead>\n",
       "    <tr style=\"text-align: right;\">\n",
       "      <th></th>\n",
       "      <th>Team</th>\n",
       "      <th>PLAYER_NAME</th>\n",
       "      <th>Pos</th>\n",
       "      <th>MIN</th>\n",
       "      <th>FGM</th>\n",
       "      <th>FGA</th>\n",
       "      <th>FG_PCT</th>\n",
       "      <th>FG3M</th>\n",
       "      <th>FG3A</th>\n",
       "      <th>FG3_PCT</th>\n",
       "      <th>...</th>\n",
       "      <th>OREB</th>\n",
       "      <th>DREB</th>\n",
       "      <th>REB</th>\n",
       "      <th>AST</th>\n",
       "      <th>STL</th>\n",
       "      <th>BLK</th>\n",
       "      <th>TO</th>\n",
       "      <th>PF</th>\n",
       "      <th>PTS</th>\n",
       "      <th>PLUS_MINUS</th>\n",
       "    </tr>\n",
       "  </thead>\n",
       "  <tbody>\n",
       "    <tr>\n",
       "      <th>0</th>\n",
       "      <td>WAS</td>\n",
       "      <td>Bradley Beal</td>\n",
       "      <td>F</td>\n",
       "      <td>34:36</td>\n",
       "      <td>14.0</td>\n",
       "      <td>28.0</td>\n",
       "      <td>0.500</td>\n",
       "      <td>1.0</td>\n",
       "      <td>6.0</td>\n",
       "      <td>0.167</td>\n",
       "      <td>...</td>\n",
       "      <td>0.0</td>\n",
       "      <td>4.0</td>\n",
       "      <td>4.0</td>\n",
       "      <td>3.0</td>\n",
       "      <td>1.0</td>\n",
       "      <td>0.0</td>\n",
       "      <td>1.0</td>\n",
       "      <td>0.0</td>\n",
       "      <td>33.0</td>\n",
       "      <td>-22.0</td>\n",
       "    </tr>\n",
       "    <tr>\n",
       "      <th>1</th>\n",
       "      <td>WAS</td>\n",
       "      <td>Rui Hachimura</td>\n",
       "      <td>F</td>\n",
       "      <td>25:50</td>\n",
       "      <td>4.0</td>\n",
       "      <td>6.0</td>\n",
       "      <td>0.667</td>\n",
       "      <td>1.0</td>\n",
       "      <td>1.0</td>\n",
       "      <td>1.000</td>\n",
       "      <td>...</td>\n",
       "      <td>2.0</td>\n",
       "      <td>5.0</td>\n",
       "      <td>7.0</td>\n",
       "      <td>1.0</td>\n",
       "      <td>0.0</td>\n",
       "      <td>0.0</td>\n",
       "      <td>3.0</td>\n",
       "      <td>4.0</td>\n",
       "      <td>11.0</td>\n",
       "      <td>-6.0</td>\n",
       "    </tr>\n",
       "    <tr>\n",
       "      <th>2</th>\n",
       "      <td>WAS</td>\n",
       "      <td>Alex Len</td>\n",
       "      <td>C</td>\n",
       "      <td>12:11</td>\n",
       "      <td>3.0</td>\n",
       "      <td>5.0</td>\n",
       "      <td>0.600</td>\n",
       "      <td>0.0</td>\n",
       "      <td>0.0</td>\n",
       "      <td>0.000</td>\n",
       "      <td>...</td>\n",
       "      <td>3.0</td>\n",
       "      <td>2.0</td>\n",
       "      <td>5.0</td>\n",
       "      <td>0.0</td>\n",
       "      <td>1.0</td>\n",
       "      <td>0.0</td>\n",
       "      <td>0.0</td>\n",
       "      <td>2.0</td>\n",
       "      <td>6.0</td>\n",
       "      <td>-11.0</td>\n",
       "    </tr>\n",
       "    <tr>\n",
       "      <th>3</th>\n",
       "      <td>WAS</td>\n",
       "      <td>Raul Neto</td>\n",
       "      <td>G</td>\n",
       "      <td>19:19</td>\n",
       "      <td>2.0</td>\n",
       "      <td>5.0</td>\n",
       "      <td>0.400</td>\n",
       "      <td>0.0</td>\n",
       "      <td>2.0</td>\n",
       "      <td>0.000</td>\n",
       "      <td>...</td>\n",
       "      <td>1.0</td>\n",
       "      <td>2.0</td>\n",
       "      <td>3.0</td>\n",
       "      <td>1.0</td>\n",
       "      <td>0.0</td>\n",
       "      <td>0.0</td>\n",
       "      <td>0.0</td>\n",
       "      <td>2.0</td>\n",
       "      <td>4.0</td>\n",
       "      <td>-17.0</td>\n",
       "    </tr>\n",
       "    <tr>\n",
       "      <th>4</th>\n",
       "      <td>WAS</td>\n",
       "      <td>Russell Westbrook</td>\n",
       "      <td>G</td>\n",
       "      <td>29:07</td>\n",
       "      <td>2.0</td>\n",
       "      <td>10.0</td>\n",
       "      <td>0.200</td>\n",
       "      <td>0.0</td>\n",
       "      <td>3.0</td>\n",
       "      <td>0.000</td>\n",
       "      <td>...</td>\n",
       "      <td>2.0</td>\n",
       "      <td>4.0</td>\n",
       "      <td>6.0</td>\n",
       "      <td>11.0</td>\n",
       "      <td>0.0</td>\n",
       "      <td>0.0</td>\n",
       "      <td>4.0</td>\n",
       "      <td>0.0</td>\n",
       "      <td>10.0</td>\n",
       "      <td>-16.0</td>\n",
       "    </tr>\n",
       "  </tbody>\n",
       "</table>\n",
       "<p>5 rows × 23 columns</p>\n",
       "</div>"
      ],
      "text/plain": [
       "  Team        PLAYER_NAME Pos    MIN   FGM   FGA  FG_PCT  FG3M  FG3A  FG3_PCT  \\\n",
       "0  WAS       Bradley Beal   F  34:36  14.0  28.0   0.500   1.0   6.0    0.167   \n",
       "1  WAS      Rui Hachimura   F  25:50   4.0   6.0   0.667   1.0   1.0    1.000   \n",
       "2  WAS           Alex Len   C  12:11   3.0   5.0   0.600   0.0   0.0    0.000   \n",
       "3  WAS          Raul Neto   G  19:19   2.0   5.0   0.400   0.0   2.0    0.000   \n",
       "4  WAS  Russell Westbrook   G  29:07   2.0  10.0   0.200   0.0   3.0    0.000   \n",
       "\n",
       "   ...  OREB  DREB  REB   AST  STL  BLK   TO   PF   PTS  PLUS_MINUS  \n",
       "0  ...   0.0   4.0  4.0   3.0  1.0  0.0  1.0  0.0  33.0       -22.0  \n",
       "1  ...   2.0   5.0  7.0   1.0  0.0  0.0  3.0  4.0  11.0        -6.0  \n",
       "2  ...   3.0   2.0  5.0   0.0  1.0  0.0  0.0  2.0   6.0       -11.0  \n",
       "3  ...   1.0   2.0  3.0   1.0  0.0  0.0  0.0  2.0   4.0       -17.0  \n",
       "4  ...   2.0   4.0  6.0  11.0  0.0  0.0  4.0  0.0  10.0       -16.0  \n",
       "\n",
       "[5 rows x 23 columns]"
      ]
     },
     "execution_count": 4,
     "metadata": {},
     "output_type": "execute_result"
    }
   ],
   "source": [
    "data1= data1.rename(columns = {'TEAM_ABBREVIATION':'Team','START_POSITION':'Pos'})\n",
    "data1.drop(['GAME_ID','COMMENT','TEAM_ID','PLAYER_ID','TEAM_CITY'],axis=1,inplace=True)\n",
    "data1.head()"
   ]
  },
  {
   "cell_type": "code",
   "execution_count": 5,
   "id": "2702fdf4",
   "metadata": {
    "execution": {
     "iopub.execute_input": "2022-01-03T01:05:41.222431Z",
     "iopub.status.busy": "2022-01-03T01:05:41.221429Z",
     "iopub.status.idle": "2022-01-03T01:05:41.225920Z",
     "shell.execute_reply": "2022-01-03T01:05:41.226442Z",
     "shell.execute_reply.started": "2022-01-02T22:47:04.602131Z"
    },
    "papermill": {
     "duration": 0.053629,
     "end_time": "2022-01-03T01:05:41.226617",
     "exception": false,
     "start_time": "2022-01-03T01:05:41.172988",
     "status": "completed"
    },
    "tags": []
   },
   "outputs": [
    {
     "data": {
      "text/plain": [
       "4.05641058464594"
      ]
     },
     "execution_count": 5,
     "metadata": {},
     "output_type": "execute_result"
    }
   ],
   "source": [
    "#average number of rebounds\n",
    "data1.REB.mean()"
   ]
  },
  {
   "cell_type": "markdown",
   "id": "822ad09b",
   "metadata": {
    "papermill": {
     "duration": 0.041808,
     "end_time": "2022-01-03T01:05:41.310877",
     "exception": false,
     "start_time": "2022-01-03T01:05:41.269069",
     "status": "completed"
    },
    "tags": []
   },
   "source": [
    "As you can see, now we have a briefer dataset. Its time to see if we have null cells. We fill null cells with the exact same value in the next cell of the column, and fill the rest of null cells by zero."
   ]
  },
  {
   "cell_type": "code",
   "execution_count": 6,
   "id": "d19c616b",
   "metadata": {
    "execution": {
     "iopub.execute_input": "2022-01-03T01:05:41.398444Z",
     "iopub.status.busy": "2022-01-03T01:05:41.397856Z",
     "iopub.status.idle": "2022-01-03T01:05:41.670031Z",
     "shell.execute_reply": "2022-01-03T01:05:41.670573Z",
     "shell.execute_reply.started": "2022-01-02T20:18:42.341002Z"
    },
    "papermill": {
     "duration": 0.317562,
     "end_time": "2022-01-03T01:05:41.670753",
     "exception": false,
     "start_time": "2022-01-03T01:05:41.353191",
     "status": "completed"
    },
    "tags": []
   },
   "outputs": [
    {
     "data": {
      "text/plain": [
       "Team                0\n",
       "PLAYER_NAME         0\n",
       "Pos            379831\n",
       "MIN            100049\n",
       "FGM            100049\n",
       "FGA            100049\n",
       "FG_PCT         100049\n",
       "FG3M           100049\n",
       "FG3A           100049\n",
       "FG3_PCT        100049\n",
       "FTM            100049\n",
       "FTA            100049\n",
       "FT_PCT         100049\n",
       "OREB           100049\n",
       "DREB           100049\n",
       "REB            100049\n",
       "AST            100049\n",
       "STL            100049\n",
       "BLK            100049\n",
       "TO             100049\n",
       "PF             100049\n",
       "PTS            100049\n",
       "PLUS_MINUS     123710\n",
       "dtype: int64"
      ]
     },
     "execution_count": 6,
     "metadata": {},
     "output_type": "execute_result"
    }
   ],
   "source": [
    "data1.isnull().sum()"
   ]
  },
  {
   "cell_type": "code",
   "execution_count": 7,
   "id": "301fcee6",
   "metadata": {
    "execution": {
     "iopub.execute_input": "2022-01-03T01:05:41.761315Z",
     "iopub.status.busy": "2022-01-03T01:05:41.760691Z",
     "iopub.status.idle": "2022-01-03T01:05:42.514931Z",
     "shell.execute_reply": "2022-01-03T01:05:42.514194Z",
     "shell.execute_reply.started": "2022-01-02T23:33:53.451200Z"
    },
    "papermill": {
     "duration": 0.800222,
     "end_time": "2022-01-03T01:05:42.515081",
     "exception": false,
     "start_time": "2022-01-03T01:05:41.714859",
     "status": "completed"
    },
    "tags": []
   },
   "outputs": [],
   "source": [
    "data1=data1.fillna(method='bfill', axis=0).fillna(0)  #filling the null cells"
   ]
  },
  {
   "cell_type": "markdown",
   "id": "9fcdaa2c",
   "metadata": {
    "papermill": {
     "duration": 0.043578,
     "end_time": "2022-01-03T01:05:42.602250",
     "exception": false,
     "start_time": "2022-01-03T01:05:42.558672",
     "status": "completed"
    },
    "tags": []
   },
   "source": [
    "We start to investigate few simple things about our data and the players. Lets see the most turnovers made by a single player in a match. Turnover is the number of times a players looses the ball in the game."
   ]
  },
  {
   "cell_type": "code",
   "execution_count": 8,
   "id": "d5bad83d",
   "metadata": {
    "execution": {
     "iopub.execute_input": "2022-01-03T01:05:42.693614Z",
     "iopub.status.busy": "2022-01-03T01:05:42.692977Z",
     "iopub.status.idle": "2022-01-03T01:05:42.872652Z",
     "shell.execute_reply": "2022-01-03T01:05:42.873250Z",
     "shell.execute_reply.started": "2022-01-02T23:33:58.652035Z"
    },
    "papermill": {
     "duration": 0.227481,
     "end_time": "2022-01-03T01:05:42.873428",
     "exception": false,
     "start_time": "2022-01-03T01:05:42.645947",
     "status": "completed"
    },
    "tags": []
   },
   "outputs": [
    {
     "data": {
      "text/html": [
       "<div>\n",
       "<style scoped>\n",
       "    .dataframe tbody tr th:only-of-type {\n",
       "        vertical-align: middle;\n",
       "    }\n",
       "\n",
       "    .dataframe tbody tr th {\n",
       "        vertical-align: top;\n",
       "    }\n",
       "\n",
       "    .dataframe thead th {\n",
       "        text-align: right;\n",
       "    }\n",
       "</style>\n",
       "<table border=\"1\" class=\"dataframe\">\n",
       "  <thead>\n",
       "    <tr style=\"text-align: right;\">\n",
       "      <th></th>\n",
       "      <th>Team</th>\n",
       "      <th>PLAYER_NAME</th>\n",
       "      <th>Pos</th>\n",
       "      <th>MIN</th>\n",
       "      <th>FGM</th>\n",
       "      <th>FGA</th>\n",
       "      <th>FG_PCT</th>\n",
       "      <th>FG3M</th>\n",
       "      <th>FG3A</th>\n",
       "      <th>FG3_PCT</th>\n",
       "      <th>...</th>\n",
       "      <th>OREB</th>\n",
       "      <th>DREB</th>\n",
       "      <th>REB</th>\n",
       "      <th>AST</th>\n",
       "      <th>STL</th>\n",
       "      <th>BLK</th>\n",
       "      <th>TO</th>\n",
       "      <th>PF</th>\n",
       "      <th>PTS</th>\n",
       "      <th>PLUS_MINUS</th>\n",
       "    </tr>\n",
       "  </thead>\n",
       "  <tbody>\n",
       "    <tr>\n",
       "      <th>151791</th>\n",
       "      <td>BOS</td>\n",
       "      <td>Paul Pierce</td>\n",
       "      <td>G</td>\n",
       "      <td>44:46</td>\n",
       "      <td>12.0</td>\n",
       "      <td>21.0</td>\n",
       "      <td>0.571</td>\n",
       "      <td>1.0</td>\n",
       "      <td>4.0</td>\n",
       "      <td>0.250</td>\n",
       "      <td>...</td>\n",
       "      <td>1.0</td>\n",
       "      <td>12.0</td>\n",
       "      <td>13.0</td>\n",
       "      <td>6.0</td>\n",
       "      <td>2.0</td>\n",
       "      <td>0.0</td>\n",
       "      <td>12.0</td>\n",
       "      <td>3.0</td>\n",
       "      <td>35.0</td>\n",
       "      <td>0.0</td>\n",
       "    </tr>\n",
       "    <tr>\n",
       "      <th>345396</th>\n",
       "      <td>WAS</td>\n",
       "      <td>Gilbert Arenas</td>\n",
       "      <td>G</td>\n",
       "      <td>42:09</td>\n",
       "      <td>7.0</td>\n",
       "      <td>20.0</td>\n",
       "      <td>0.350</td>\n",
       "      <td>3.0</td>\n",
       "      <td>7.0</td>\n",
       "      <td>0.429</td>\n",
       "      <td>...</td>\n",
       "      <td>0.0</td>\n",
       "      <td>5.0</td>\n",
       "      <td>5.0</td>\n",
       "      <td>8.0</td>\n",
       "      <td>3.0</td>\n",
       "      <td>0.0</td>\n",
       "      <td>12.0</td>\n",
       "      <td>2.0</td>\n",
       "      <td>21.0</td>\n",
       "      <td>-9.0</td>\n",
       "    </tr>\n",
       "    <tr>\n",
       "      <th>200854</th>\n",
       "      <td>PHI</td>\n",
       "      <td>Allen Iverson</td>\n",
       "      <td>G</td>\n",
       "      <td>44:35</td>\n",
       "      <td>10.0</td>\n",
       "      <td>25.0</td>\n",
       "      <td>0.400</td>\n",
       "      <td>2.0</td>\n",
       "      <td>8.0</td>\n",
       "      <td>0.250</td>\n",
       "      <td>...</td>\n",
       "      <td>0.0</td>\n",
       "      <td>6.0</td>\n",
       "      <td>6.0</td>\n",
       "      <td>5.0</td>\n",
       "      <td>4.0</td>\n",
       "      <td>1.0</td>\n",
       "      <td>12.0</td>\n",
       "      <td>3.0</td>\n",
       "      <td>33.0</td>\n",
       "      <td>-20.0</td>\n",
       "    </tr>\n",
       "    <tr>\n",
       "      <th>505957</th>\n",
       "      <td>HOU</td>\n",
       "      <td>James Harden</td>\n",
       "      <td>G</td>\n",
       "      <td>43:15</td>\n",
       "      <td>2.0</td>\n",
       "      <td>11.0</td>\n",
       "      <td>0.182</td>\n",
       "      <td>0.0</td>\n",
       "      <td>3.0</td>\n",
       "      <td>0.000</td>\n",
       "      <td>...</td>\n",
       "      <td>2.0</td>\n",
       "      <td>4.0</td>\n",
       "      <td>6.0</td>\n",
       "      <td>5.0</td>\n",
       "      <td>3.0</td>\n",
       "      <td>0.0</td>\n",
       "      <td>12.0</td>\n",
       "      <td>5.0</td>\n",
       "      <td>14.0</td>\n",
       "      <td>-4.0</td>\n",
       "    </tr>\n",
       "    <tr>\n",
       "      <th>136895</th>\n",
       "      <td>MIA</td>\n",
       "      <td>Dwyane Wade</td>\n",
       "      <td>G</td>\n",
       "      <td>42:25</td>\n",
       "      <td>9.0</td>\n",
       "      <td>20.0</td>\n",
       "      <td>0.450</td>\n",
       "      <td>0.0</td>\n",
       "      <td>1.0</td>\n",
       "      <td>0.000</td>\n",
       "      <td>...</td>\n",
       "      <td>0.0</td>\n",
       "      <td>4.0</td>\n",
       "      <td>4.0</td>\n",
       "      <td>5.0</td>\n",
       "      <td>3.0</td>\n",
       "      <td>2.0</td>\n",
       "      <td>12.0</td>\n",
       "      <td>0.0</td>\n",
       "      <td>41.0</td>\n",
       "      <td>12.0</td>\n",
       "    </tr>\n",
       "    <tr>\n",
       "      <th>459663</th>\n",
       "      <td>HOU</td>\n",
       "      <td>James Harden</td>\n",
       "      <td>G</td>\n",
       "      <td>40:32</td>\n",
       "      <td>7.0</td>\n",
       "      <td>13.0</td>\n",
       "      <td>0.538</td>\n",
       "      <td>3.0</td>\n",
       "      <td>8.0</td>\n",
       "      <td>0.375</td>\n",
       "      <td>...</td>\n",
       "      <td>0.0</td>\n",
       "      <td>6.0</td>\n",
       "      <td>6.0</td>\n",
       "      <td>15.0</td>\n",
       "      <td>2.0</td>\n",
       "      <td>1.0</td>\n",
       "      <td>12.0</td>\n",
       "      <td>4.0</td>\n",
       "      <td>29.0</td>\n",
       "      <td>-12.0</td>\n",
       "    </tr>\n",
       "    <tr>\n",
       "      <th>386004</th>\n",
       "      <td>HOU</td>\n",
       "      <td>James Harden</td>\n",
       "      <td>G</td>\n",
       "      <td>47:21</td>\n",
       "      <td>17.0</td>\n",
       "      <td>32.0</td>\n",
       "      <td>0.531</td>\n",
       "      <td>7.0</td>\n",
       "      <td>15.0</td>\n",
       "      <td>0.467</td>\n",
       "      <td>...</td>\n",
       "      <td>1.0</td>\n",
       "      <td>7.0</td>\n",
       "      <td>8.0</td>\n",
       "      <td>13.0</td>\n",
       "      <td>3.0</td>\n",
       "      <td>0.0</td>\n",
       "      <td>11.0</td>\n",
       "      <td>4.0</td>\n",
       "      <td>54.0</td>\n",
       "      <td>7.0</td>\n",
       "    </tr>\n",
       "    <tr>\n",
       "      <th>410994</th>\n",
       "      <td>IND</td>\n",
       "      <td>Ben Moore</td>\n",
       "      <td>F</td>\n",
       "      <td>39:55</td>\n",
       "      <td>11.0</td>\n",
       "      <td>17.0</td>\n",
       "      <td>0.647</td>\n",
       "      <td>0.0</td>\n",
       "      <td>2.0</td>\n",
       "      <td>0.000</td>\n",
       "      <td>...</td>\n",
       "      <td>0.0</td>\n",
       "      <td>10.0</td>\n",
       "      <td>10.0</td>\n",
       "      <td>11.0</td>\n",
       "      <td>4.0</td>\n",
       "      <td>1.0</td>\n",
       "      <td>11.0</td>\n",
       "      <td>0.0</td>\n",
       "      <td>26.0</td>\n",
       "      <td>12.0</td>\n",
       "    </tr>\n",
       "    <tr>\n",
       "      <th>410993</th>\n",
       "      <td>IND</td>\n",
       "      <td>Ike Anigbogu</td>\n",
       "      <td>F</td>\n",
       "      <td>39:55</td>\n",
       "      <td>11.0</td>\n",
       "      <td>17.0</td>\n",
       "      <td>0.647</td>\n",
       "      <td>0.0</td>\n",
       "      <td>2.0</td>\n",
       "      <td>0.000</td>\n",
       "      <td>...</td>\n",
       "      <td>0.0</td>\n",
       "      <td>10.0</td>\n",
       "      <td>10.0</td>\n",
       "      <td>11.0</td>\n",
       "      <td>4.0</td>\n",
       "      <td>1.0</td>\n",
       "      <td>11.0</td>\n",
       "      <td>0.0</td>\n",
       "      <td>26.0</td>\n",
       "      <td>12.0</td>\n",
       "    </tr>\n",
       "    <tr>\n",
       "      <th>103329</th>\n",
       "      <td>LAL</td>\n",
       "      <td>Kobe Bryant</td>\n",
       "      <td>G</td>\n",
       "      <td>47:15</td>\n",
       "      <td>12.0</td>\n",
       "      <td>25.0</td>\n",
       "      <td>0.480</td>\n",
       "      <td>2.0</td>\n",
       "      <td>4.0</td>\n",
       "      <td>0.500</td>\n",
       "      <td>...</td>\n",
       "      <td>3.0</td>\n",
       "      <td>7.0</td>\n",
       "      <td>10.0</td>\n",
       "      <td>5.0</td>\n",
       "      <td>2.0</td>\n",
       "      <td>1.0</td>\n",
       "      <td>11.0</td>\n",
       "      <td>2.0</td>\n",
       "      <td>39.0</td>\n",
       "      <td>3.0</td>\n",
       "    </tr>\n",
       "  </tbody>\n",
       "</table>\n",
       "<p>10 rows × 23 columns</p>\n",
       "</div>"
      ],
      "text/plain": [
       "       Team     PLAYER_NAME Pos    MIN   FGM   FGA  FG_PCT  FG3M  FG3A  \\\n",
       "151791  BOS     Paul Pierce   G  44:46  12.0  21.0   0.571   1.0   4.0   \n",
       "345396  WAS  Gilbert Arenas   G  42:09   7.0  20.0   0.350   3.0   7.0   \n",
       "200854  PHI   Allen Iverson   G  44:35  10.0  25.0   0.400   2.0   8.0   \n",
       "505957  HOU    James Harden   G  43:15   2.0  11.0   0.182   0.0   3.0   \n",
       "136895  MIA     Dwyane Wade   G  42:25   9.0  20.0   0.450   0.0   1.0   \n",
       "459663  HOU    James Harden   G  40:32   7.0  13.0   0.538   3.0   8.0   \n",
       "386004  HOU    James Harden   G  47:21  17.0  32.0   0.531   7.0  15.0   \n",
       "410994  IND       Ben Moore   F  39:55  11.0  17.0   0.647   0.0   2.0   \n",
       "410993  IND    Ike Anigbogu   F  39:55  11.0  17.0   0.647   0.0   2.0   \n",
       "103329  LAL     Kobe Bryant   G  47:15  12.0  25.0   0.480   2.0   4.0   \n",
       "\n",
       "        FG3_PCT  ...  OREB  DREB   REB   AST  STL  BLK    TO   PF   PTS  \\\n",
       "151791    0.250  ...   1.0  12.0  13.0   6.0  2.0  0.0  12.0  3.0  35.0   \n",
       "345396    0.429  ...   0.0   5.0   5.0   8.0  3.0  0.0  12.0  2.0  21.0   \n",
       "200854    0.250  ...   0.0   6.0   6.0   5.0  4.0  1.0  12.0  3.0  33.0   \n",
       "505957    0.000  ...   2.0   4.0   6.0   5.0  3.0  0.0  12.0  5.0  14.0   \n",
       "136895    0.000  ...   0.0   4.0   4.0   5.0  3.0  2.0  12.0  0.0  41.0   \n",
       "459663    0.375  ...   0.0   6.0   6.0  15.0  2.0  1.0  12.0  4.0  29.0   \n",
       "386004    0.467  ...   1.0   7.0   8.0  13.0  3.0  0.0  11.0  4.0  54.0   \n",
       "410994    0.000  ...   0.0  10.0  10.0  11.0  4.0  1.0  11.0  0.0  26.0   \n",
       "410993    0.000  ...   0.0  10.0  10.0  11.0  4.0  1.0  11.0  0.0  26.0   \n",
       "103329    0.500  ...   3.0   7.0  10.0   5.0  2.0  1.0  11.0  2.0  39.0   \n",
       "\n",
       "        PLUS_MINUS  \n",
       "151791         0.0  \n",
       "345396        -9.0  \n",
       "200854       -20.0  \n",
       "505957        -4.0  \n",
       "136895        12.0  \n",
       "459663       -12.0  \n",
       "386004         7.0  \n",
       "410994        12.0  \n",
       "410993        12.0  \n",
       "103329         3.0  \n",
       "\n",
       "[10 rows x 23 columns]"
      ]
     },
     "execution_count": 8,
     "metadata": {},
     "output_type": "execute_result"
    }
   ],
   "source": [
    "most_to = data1.sort_values(by=['TO'], ascending=False)\n",
    "most_to.head(10)\n",
    "\n",
    "# as you see in the TO column, some players had 12 turnovers in a game, which is too high!"
   ]
  },
  {
   "cell_type": "markdown",
   "id": "d41addde",
   "metadata": {
    "papermill": {
     "duration": 0.044213,
     "end_time": "2022-01-03T01:05:42.962319",
     "exception": false,
     "start_time": "2022-01-03T01:05:42.918106",
     "status": "completed"
    },
    "tags": []
   },
   "source": [
    "One of my favorite players is Paul Pierce, lets take a look at his performance seperately."
   ]
  },
  {
   "cell_type": "code",
   "execution_count": 9,
   "id": "fd160c07",
   "metadata": {
    "execution": {
     "iopub.execute_input": "2022-01-03T01:05:43.055713Z",
     "iopub.status.busy": "2022-01-03T01:05:43.055082Z",
     "iopub.status.idle": "2022-01-03T01:05:43.206034Z",
     "shell.execute_reply": "2022-01-03T01:05:43.205496Z",
     "shell.execute_reply.started": "2022-01-02T20:25:32.223021Z"
    },
    "papermill": {
     "duration": 0.198352,
     "end_time": "2022-01-03T01:05:43.206170",
     "exception": false,
     "start_time": "2022-01-03T01:05:43.007818",
     "status": "completed"
    },
    "tags": []
   },
   "outputs": [
    {
     "data": {
      "text/html": [
       "<div>\n",
       "<style scoped>\n",
       "    .dataframe tbody tr th:only-of-type {\n",
       "        vertical-align: middle;\n",
       "    }\n",
       "\n",
       "    .dataframe tbody tr th {\n",
       "        vertical-align: top;\n",
       "    }\n",
       "\n",
       "    .dataframe thead th {\n",
       "        text-align: right;\n",
       "    }\n",
       "</style>\n",
       "<table border=\"1\" class=\"dataframe\">\n",
       "  <thead>\n",
       "    <tr style=\"text-align: right;\">\n",
       "      <th></th>\n",
       "      <th>Team</th>\n",
       "      <th>PLAYER_NAME</th>\n",
       "      <th>Pos</th>\n",
       "      <th>MIN</th>\n",
       "      <th>FGM</th>\n",
       "      <th>FGA</th>\n",
       "      <th>FG_PCT</th>\n",
       "      <th>FG3M</th>\n",
       "      <th>FG3A</th>\n",
       "      <th>FG3_PCT</th>\n",
       "      <th>...</th>\n",
       "      <th>OREB</th>\n",
       "      <th>DREB</th>\n",
       "      <th>REB</th>\n",
       "      <th>AST</th>\n",
       "      <th>STL</th>\n",
       "      <th>BLK</th>\n",
       "      <th>TO</th>\n",
       "      <th>PF</th>\n",
       "      <th>PTS</th>\n",
       "      <th>PLUS_MINUS</th>\n",
       "    </tr>\n",
       "  </thead>\n",
       "  <tbody>\n",
       "    <tr>\n",
       "      <th>54337</th>\n",
       "      <td>BOS</td>\n",
       "      <td>Paul Pierce</td>\n",
       "      <td>F</td>\n",
       "      <td>38:35</td>\n",
       "      <td>4.0</td>\n",
       "      <td>13.0</td>\n",
       "      <td>0.308</td>\n",
       "      <td>1.0</td>\n",
       "      <td>5.0</td>\n",
       "      <td>0.200</td>\n",
       "      <td>...</td>\n",
       "      <td>0.0</td>\n",
       "      <td>2.0</td>\n",
       "      <td>2.0</td>\n",
       "      <td>3.0</td>\n",
       "      <td>0.0</td>\n",
       "      <td>0.0</td>\n",
       "      <td>1.0</td>\n",
       "      <td>2.0</td>\n",
       "      <td>16.0</td>\n",
       "      <td>-21.0</td>\n",
       "    </tr>\n",
       "    <tr>\n",
       "      <th>54373</th>\n",
       "      <td>BOS</td>\n",
       "      <td>Paul Pierce</td>\n",
       "      <td>F</td>\n",
       "      <td>41:11</td>\n",
       "      <td>6.0</td>\n",
       "      <td>14.0</td>\n",
       "      <td>0.429</td>\n",
       "      <td>0.0</td>\n",
       "      <td>3.0</td>\n",
       "      <td>0.000</td>\n",
       "      <td>...</td>\n",
       "      <td>0.0</td>\n",
       "      <td>9.0</td>\n",
       "      <td>9.0</td>\n",
       "      <td>5.0</td>\n",
       "      <td>0.0</td>\n",
       "      <td>0.0</td>\n",
       "      <td>3.0</td>\n",
       "      <td>3.0</td>\n",
       "      <td>17.0</td>\n",
       "      <td>-10.0</td>\n",
       "    </tr>\n",
       "    <tr>\n",
       "      <th>54457</th>\n",
       "      <td>BOS</td>\n",
       "      <td>Paul Pierce</td>\n",
       "      <td>F</td>\n",
       "      <td>40:05</td>\n",
       "      <td>6.0</td>\n",
       "      <td>11.0</td>\n",
       "      <td>0.545</td>\n",
       "      <td>0.0</td>\n",
       "      <td>1.0</td>\n",
       "      <td>0.000</td>\n",
       "      <td>...</td>\n",
       "      <td>1.0</td>\n",
       "      <td>8.0</td>\n",
       "      <td>9.0</td>\n",
       "      <td>8.0</td>\n",
       "      <td>2.0</td>\n",
       "      <td>0.0</td>\n",
       "      <td>0.0</td>\n",
       "      <td>3.0</td>\n",
       "      <td>19.0</td>\n",
       "      <td>1.0</td>\n",
       "    </tr>\n",
       "    <tr>\n",
       "      <th>54541</th>\n",
       "      <td>BOS</td>\n",
       "      <td>Paul Pierce</td>\n",
       "      <td>F</td>\n",
       "      <td>32:16</td>\n",
       "      <td>9.0</td>\n",
       "      <td>15.0</td>\n",
       "      <td>0.600</td>\n",
       "      <td>1.0</td>\n",
       "      <td>1.0</td>\n",
       "      <td>1.000</td>\n",
       "      <td>...</td>\n",
       "      <td>0.0</td>\n",
       "      <td>3.0</td>\n",
       "      <td>3.0</td>\n",
       "      <td>4.0</td>\n",
       "      <td>0.0</td>\n",
       "      <td>0.0</td>\n",
       "      <td>2.0</td>\n",
       "      <td>5.0</td>\n",
       "      <td>27.0</td>\n",
       "      <td>-6.0</td>\n",
       "    </tr>\n",
       "    <tr>\n",
       "      <th>54637</th>\n",
       "      <td>BOS</td>\n",
       "      <td>Paul Pierce</td>\n",
       "      <td>F</td>\n",
       "      <td>38:14</td>\n",
       "      <td>6.0</td>\n",
       "      <td>15.0</td>\n",
       "      <td>0.400</td>\n",
       "      <td>1.0</td>\n",
       "      <td>3.0</td>\n",
       "      <td>0.333</td>\n",
       "      <td>...</td>\n",
       "      <td>0.0</td>\n",
       "      <td>3.0</td>\n",
       "      <td>3.0</td>\n",
       "      <td>6.0</td>\n",
       "      <td>3.0</td>\n",
       "      <td>0.0</td>\n",
       "      <td>2.0</td>\n",
       "      <td>2.0</td>\n",
       "      <td>27.0</td>\n",
       "      <td>-15.0</td>\n",
       "    </tr>\n",
       "  </tbody>\n",
       "</table>\n",
       "<p>5 rows × 23 columns</p>\n",
       "</div>"
      ],
      "text/plain": [
       "      Team  PLAYER_NAME Pos    MIN  FGM   FGA  FG_PCT  FG3M  FG3A  FG3_PCT  \\\n",
       "54337  BOS  Paul Pierce   F  38:35  4.0  13.0   0.308   1.0   5.0    0.200   \n",
       "54373  BOS  Paul Pierce   F  41:11  6.0  14.0   0.429   0.0   3.0    0.000   \n",
       "54457  BOS  Paul Pierce   F  40:05  6.0  11.0   0.545   0.0   1.0    0.000   \n",
       "54541  BOS  Paul Pierce   F  32:16  9.0  15.0   0.600   1.0   1.0    1.000   \n",
       "54637  BOS  Paul Pierce   F  38:14  6.0  15.0   0.400   1.0   3.0    0.333   \n",
       "\n",
       "       ...  OREB  DREB  REB  AST  STL  BLK   TO   PF   PTS  PLUS_MINUS  \n",
       "54337  ...   0.0   2.0  2.0  3.0  0.0  0.0  1.0  2.0  16.0       -21.0  \n",
       "54373  ...   0.0   9.0  9.0  5.0  0.0  0.0  3.0  3.0  17.0       -10.0  \n",
       "54457  ...   1.0   8.0  9.0  8.0  2.0  0.0  0.0  3.0  19.0         1.0  \n",
       "54541  ...   0.0   3.0  3.0  4.0  0.0  0.0  2.0  5.0  27.0        -6.0  \n",
       "54637  ...   0.0   3.0  3.0  6.0  3.0  0.0  2.0  2.0  27.0       -15.0  \n",
       "\n",
       "[5 rows x 23 columns]"
      ]
     },
     "execution_count": 9,
     "metadata": {},
     "output_type": "execute_result"
    }
   ],
   "source": [
    "# all rows of a single player\n",
    "data1[data1.PLAYER_NAME=='Paul Pierce'].head()"
   ]
  },
  {
   "cell_type": "code",
   "execution_count": 10,
   "id": "41bae4c2",
   "metadata": {
    "execution": {
     "iopub.execute_input": "2022-01-03T01:05:43.391109Z",
     "iopub.status.busy": "2022-01-03T01:05:43.390410Z",
     "iopub.status.idle": "2022-01-03T01:05:43.399416Z",
     "shell.execute_reply": "2022-01-03T01:05:43.398909Z",
     "shell.execute_reply.started": "2022-01-02T20:25:39.488767Z"
    },
    "papermill": {
     "duration": 0.148528,
     "end_time": "2022-01-03T01:05:43.399584",
     "exception": false,
     "start_time": "2022-01-03T01:05:43.251056",
     "status": "completed"
    },
    "tags": []
   },
   "outputs": [
    {
     "data": {
      "text/plain": [
       "PTS    17.529822\n",
       "dtype: float64"
      ]
     },
     "execution_count": 10,
     "metadata": {},
     "output_type": "execute_result"
    }
   ],
   "source": [
    "Paul_Pierce=data1[data1.PLAYER_NAME=='Paul Pierce']\n",
    "Paul_Pierce[[\"PTS\"]].mean()\n",
    "\n",
    "#He gets 17.5 points per game on average, which is a highly competitive number!"
   ]
  },
  {
   "cell_type": "markdown",
   "id": "6f5df835",
   "metadata": {
    "papermill": {
     "duration": 0.045242,
     "end_time": "2022-01-03T01:05:43.489645",
     "exception": false,
     "start_time": "2022-01-03T01:05:43.444403",
     "status": "completed"
    },
    "tags": []
   },
   "source": [
    "Lets examine the number of unique values per each column. It can help have a better grasp of the games and the teams!"
   ]
  },
  {
   "cell_type": "code",
   "execution_count": 11,
   "id": "b2b29e5d",
   "metadata": {
    "execution": {
     "iopub.execute_input": "2022-01-03T01:05:43.583311Z",
     "iopub.status.busy": "2022-01-03T01:05:43.582414Z",
     "iopub.status.idle": "2022-01-03T01:05:43.941573Z",
     "shell.execute_reply": "2022-01-03T01:05:43.940947Z",
     "shell.execute_reply.started": "2022-01-02T20:25:50.293192Z"
    },
    "papermill": {
     "duration": 0.407391,
     "end_time": "2022-01-03T01:05:43.941716",
     "exception": false,
     "start_time": "2022-01-03T01:05:43.534325",
     "status": "completed"
    },
    "tags": []
   },
   "outputs": [
    {
     "data": {
      "text/plain": [
       "Team             34\n",
       "PLAYER_NAME    2410\n",
       "Pos               4\n",
       "MIN            3385\n",
       "FGM              26\n",
       "FGA              47\n",
       "FG_PCT          308\n",
       "FG3M             15\n",
       "FG3A             25\n",
       "FG3_PCT         105\n",
       "FTM              27\n",
       "FTA              33\n",
       "FT_PCT          162\n",
       "OREB             18\n",
       "DREB             25\n",
       "REB              32\n",
       "AST              26\n",
       "STL              11\n",
       "BLK              13\n",
       "TO               13\n",
       "PF                8\n",
       "PTS              66\n",
       "PLUS_MINUS      105\n",
       "dtype: int64"
      ]
     },
     "execution_count": 11,
     "metadata": {},
     "output_type": "execute_result"
    }
   ],
   "source": [
    "data1.nunique()\n",
    "#It says 34 uniques teams. As we know NBA has only 30 teams at the moment, which tells us 4 teams have been moved to a new city and are not active anymore, which is common thing to happen in NBA"
   ]
  },
  {
   "cell_type": "code",
   "execution_count": 12,
   "id": "3bdcefc3",
   "metadata": {
    "execution": {
     "iopub.execute_input": "2022-01-03T01:05:44.040351Z",
     "iopub.status.busy": "2022-01-03T01:05:44.039378Z",
     "iopub.status.idle": "2022-01-03T01:05:44.122936Z",
     "shell.execute_reply": "2022-01-03T01:05:44.122414Z",
     "shell.execute_reply.started": "2022-01-02T20:25:58.413794Z"
    },
    "papermill": {
     "duration": 0.135853,
     "end_time": "2022-01-03T01:05:44.123071",
     "exception": false,
     "start_time": "2022-01-03T01:05:43.987218",
     "status": "completed"
    },
    "tags": []
   },
   "outputs": [
    {
     "data": {
      "text/html": [
       "<div>\n",
       "<style scoped>\n",
       "    .dataframe tbody tr th:only-of-type {\n",
       "        vertical-align: middle;\n",
       "    }\n",
       "\n",
       "    .dataframe tbody tr th {\n",
       "        vertical-align: top;\n",
       "    }\n",
       "\n",
       "    .dataframe thead th {\n",
       "        text-align: right;\n",
       "    }\n",
       "</style>\n",
       "<table border=\"1\" class=\"dataframe\">\n",
       "  <thead>\n",
       "    <tr style=\"text-align: right;\">\n",
       "      <th></th>\n",
       "      <th>PLAYER_NAME</th>\n",
       "      <th>FG_PCT</th>\n",
       "    </tr>\n",
       "  </thead>\n",
       "  <tbody>\n",
       "    <tr>\n",
       "      <th>1236</th>\n",
       "      <td>Julian Khazzouh</td>\n",
       "      <td>1.0</td>\n",
       "    </tr>\n",
       "    <tr>\n",
       "      <th>23</th>\n",
       "      <td>Ademola Okulaja</td>\n",
       "      <td>1.0</td>\n",
       "    </tr>\n",
       "    <tr>\n",
       "      <th>1096</th>\n",
       "      <td>Jeremy Wise</td>\n",
       "      <td>1.0</td>\n",
       "    </tr>\n",
       "    <tr>\n",
       "      <th>660</th>\n",
       "      <td>Dontaye Draper</td>\n",
       "      <td>1.0</td>\n",
       "    </tr>\n",
       "    <tr>\n",
       "      <th>1739</th>\n",
       "      <td>Nik Caner-Medley</td>\n",
       "      <td>1.0</td>\n",
       "    </tr>\n",
       "    <tr>\n",
       "      <th>1724</th>\n",
       "      <td>Nick Sheppard</td>\n",
       "      <td>1.0</td>\n",
       "    </tr>\n",
       "    <tr>\n",
       "      <th>1692</th>\n",
       "      <td>Myck Kabongo</td>\n",
       "      <td>1.0</td>\n",
       "    </tr>\n",
       "    <tr>\n",
       "      <th>1639</th>\n",
       "      <td>Michelle Snow</td>\n",
       "      <td>1.0</td>\n",
       "    </tr>\n",
       "    <tr>\n",
       "      <th>53</th>\n",
       "      <td>Alex Hamilton</td>\n",
       "      <td>1.0</td>\n",
       "    </tr>\n",
       "    <tr>\n",
       "      <th>1526</th>\n",
       "      <td>Marcus Hubbard</td>\n",
       "      <td>1.0</td>\n",
       "    </tr>\n",
       "  </tbody>\n",
       "</table>\n",
       "</div>"
      ],
      "text/plain": [
       "           PLAYER_NAME  FG_PCT\n",
       "1236   Julian Khazzouh     1.0\n",
       "23     Ademola Okulaja     1.0\n",
       "1096       Jeremy Wise     1.0\n",
       "660     Dontaye Draper     1.0\n",
       "1739  Nik Caner-Medley     1.0\n",
       "1724     Nick Sheppard     1.0\n",
       "1692      Myck Kabongo     1.0\n",
       "1639     Michelle Snow     1.0\n",
       "53       Alex Hamilton     1.0\n",
       "1526    Marcus Hubbard     1.0"
      ]
     },
     "execution_count": 12,
     "metadata": {},
     "output_type": "execute_result"
    }
   ],
   "source": [
    "#Best average Field goal percentages of each player\n",
    "FG_per = data1.groupby(\"PLAYER_NAME\", as_index=False)[[\"FG_PCT\"]].mean().sort_values(by=\"FG_PCT\", ascending=False)\n",
    "FG_per.head(10)\n",
    "\n",
    "#some players have 100% perc, maybe because they only played in one game or few minutes!"
   ]
  },
  {
   "cell_type": "markdown",
   "id": "7909b807",
   "metadata": {
    "papermill": {
     "duration": 0.044651,
     "end_time": "2022-01-03T01:05:44.213022",
     "exception": false,
     "start_time": "2022-01-03T01:05:44.168371",
     "status": "completed"
    },
    "tags": []
   },
   "source": [
    "Lets observe the distribution of the Field Goal Percentage. In periods of 5 games, we split each player's games into 5 games periods and plot the distribution of FG_PCT for three of the greatest players in the game."
   ]
  },
  {
   "cell_type": "code",
   "execution_count": 13,
   "id": "e8e728c6",
   "metadata": {
    "execution": {
     "iopub.execute_input": "2022-01-03T01:05:44.309641Z",
     "iopub.status.busy": "2022-01-03T01:05:44.309032Z",
     "iopub.status.idle": "2022-01-03T01:05:45.672903Z",
     "shell.execute_reply": "2022-01-03T01:05:45.672075Z",
     "shell.execute_reply.started": "2022-01-02T20:26:05.442921Z"
    },
    "papermill": {
     "duration": 1.414664,
     "end_time": "2022-01-03T01:05:45.673044",
     "exception": false,
     "start_time": "2022-01-03T01:05:44.258380",
     "status": "completed"
    },
    "tags": []
   },
   "outputs": [
    {
     "name": "stderr",
     "output_type": "stream",
     "text": [
      "/opt/conda/lib/python3.7/site-packages/seaborn/distributions.py:2619: FutureWarning: `distplot` is a deprecated function and will be removed in a future version. Please adapt your code to use either `displot` (a figure-level function with similar flexibility) or `histplot` (an axes-level function for histograms).\n",
      "  warnings.warn(msg, FutureWarning)\n"
     ]
    },
    {
     "data": {
      "text/plain": [
       "<AxesSubplot:ylabel='Density'>"
      ]
     },
     "execution_count": 13,
     "metadata": {},
     "output_type": "execute_result"
    },
    {
     "data": {
      "image/png": "[encoded data removed]",
      "text/plain": [
       "<Figure size 432x288 with 1 Axes>"
      ]
     },
     "metadata": {
      "needs_background": "light"
     },
     "output_type": "display_data"
    }
   ],
   "source": [
    "#distribution of perfoarmance of a player\n",
    "import seaborn as sns\n",
    "def perc_log(name,size):\n",
    "    perc = data[data1.PLAYER_NAME==name].groupby(\"GAME_ID\")[\"FG_PCT\"].mean().values\n",
    "    percents = perc[:(len(perc)//size)*size].reshape(-1, size)\n",
    "    return sns.distplot(percents)\n",
    "perc_log('James Harden',5)"
   ]
  },
  {
   "cell_type": "code",
   "execution_count": 14,
   "id": "bb506d59",
   "metadata": {
    "execution": {
     "iopub.execute_input": "2022-01-03T01:05:45.857910Z",
     "iopub.status.busy": "2022-01-03T01:05:45.857222Z",
     "iopub.status.idle": "2022-01-03T01:05:46.159181Z",
     "shell.execute_reply": "2022-01-03T01:05:46.159675Z",
     "shell.execute_reply.started": "2022-01-02T19:43:22.401782Z"
    },
    "papermill": {
     "duration": 0.440527,
     "end_time": "2022-01-03T01:05:46.159849",
     "exception": false,
     "start_time": "2022-01-03T01:05:45.719322",
     "status": "completed"
    },
    "tags": []
   },
   "outputs": [
    {
     "name": "stderr",
     "output_type": "stream",
     "text": [
      "/opt/conda/lib/python3.7/site-packages/seaborn/distributions.py:2619: FutureWarning: `distplot` is a deprecated function and will be removed in a future version. Please adapt your code to use either `displot` (a figure-level function with similar flexibility) or `histplot` (an axes-level function for histograms).\n",
      "  warnings.warn(msg, FutureWarning)\n"
     ]
    },
    {
     "data": {
      "text/plain": [
       "<AxesSubplot:ylabel='Density'>"
      ]
     },
     "execution_count": 14,
     "metadata": {},
     "output_type": "execute_result"
    },
    {
     "data": {
      "image/png": "[encoded data removed]",
      "text/plain": [
       "<Figure size 432x288 with 1 Axes>"
      ]
     },
     "metadata": {
      "needs_background": "light"
     },
     "output_type": "display_data"
    }
   ],
   "source": [
    "perc_log('LeBron James',5)"
   ]
  },
  {
   "cell_type": "code",
   "execution_count": 15,
   "id": "7badeb36",
   "metadata": {
    "execution": {
     "iopub.execute_input": "2022-01-03T01:05:46.259050Z",
     "iopub.status.busy": "2022-01-03T01:05:46.258088Z",
     "iopub.status.idle": "2022-01-03T01:05:46.575099Z",
     "shell.execute_reply": "2022-01-03T01:05:46.575534Z",
     "shell.execute_reply.started": "2022-01-02T19:43:44.984004Z"
    },
    "papermill": {
     "duration": 0.367594,
     "end_time": "2022-01-03T01:05:46.575695",
     "exception": false,
     "start_time": "2022-01-03T01:05:46.208101",
     "status": "completed"
    },
    "tags": []
   },
   "outputs": [
    {
     "name": "stderr",
     "output_type": "stream",
     "text": [
      "/opt/conda/lib/python3.7/site-packages/seaborn/distributions.py:2619: FutureWarning: `distplot` is a deprecated function and will be removed in a future version. Please adapt your code to use either `displot` (a figure-level function with similar flexibility) or `histplot` (an axes-level function for histograms).\n",
      "  warnings.warn(msg, FutureWarning)\n"
     ]
    },
    {
     "data": {
      "text/plain": [
       "<AxesSubplot:ylabel='Density'>"
      ]
     },
     "execution_count": 15,
     "metadata": {},
     "output_type": "execute_result"
    },
    {
     "data": {
      "image/png": "[encoded data removed]",
      "text/plain": [
       "<Figure size 432x288 with 1 Axes>"
      ]
     },
     "metadata": {
      "needs_background": "light"
     },
     "output_type": "display_data"
    }
   ],
   "source": [
    "perc_log('Kevin Durant',5)"
   ]
  },
  {
   "cell_type": "code",
   "execution_count": 16,
   "id": "5cb3baaf",
   "metadata": {
    "execution": {
     "iopub.execute_input": "2022-01-03T01:05:46.679396Z",
     "iopub.status.busy": "2022-01-03T01:05:46.678743Z",
     "iopub.status.idle": "2022-01-03T01:05:46.722817Z",
     "shell.execute_reply": "2022-01-03T01:05:46.723297Z",
     "shell.execute_reply.started": "2022-01-02T20:51:06.572637Z"
    },
    "papermill": {
     "duration": 0.09861,
     "end_time": "2022-01-03T01:05:46.723466",
     "exception": false,
     "start_time": "2022-01-03T01:05:46.624856",
     "status": "completed"
    },
    "tags": []
   },
   "outputs": [
    {
     "data": {
      "text/html": [
       "<div>\n",
       "<style scoped>\n",
       "    .dataframe tbody tr th:only-of-type {\n",
       "        vertical-align: middle;\n",
       "    }\n",
       "\n",
       "    .dataframe tbody tr th {\n",
       "        vertical-align: top;\n",
       "    }\n",
       "\n",
       "    .dataframe thead th {\n",
       "        text-align: right;\n",
       "    }\n",
       "</style>\n",
       "<table border=\"1\" class=\"dataframe\">\n",
       "  <thead>\n",
       "    <tr style=\"text-align: right;\">\n",
       "      <th></th>\n",
       "      <th>Team</th>\n",
       "      <th>PLAYER_NAME</th>\n",
       "      <th>Pos</th>\n",
       "      <th>MIN</th>\n",
       "      <th>FGM</th>\n",
       "      <th>FGA</th>\n",
       "      <th>FG_PCT</th>\n",
       "      <th>FG3M</th>\n",
       "      <th>FG3A</th>\n",
       "      <th>FG3_PCT</th>\n",
       "      <th>...</th>\n",
       "      <th>OREB</th>\n",
       "      <th>DREB</th>\n",
       "      <th>REB</th>\n",
       "      <th>AST</th>\n",
       "      <th>STL</th>\n",
       "      <th>BLK</th>\n",
       "      <th>TO</th>\n",
       "      <th>PF</th>\n",
       "      <th>PTS</th>\n",
       "      <th>PLUS_MINUS</th>\n",
       "    </tr>\n",
       "  </thead>\n",
       "  <tbody>\n",
       "    <tr>\n",
       "      <th>615587</th>\n",
       "      <td>LAL</td>\n",
       "      <td>Steve Nash</td>\n",
       "      <td>0</td>\n",
       "      <td>15</td>\n",
       "      <td>2.0</td>\n",
       "      <td>3.0</td>\n",
       "      <td>0.667</td>\n",
       "      <td>1.0</td>\n",
       "      <td>1.0</td>\n",
       "      <td>1.000</td>\n",
       "      <td>...</td>\n",
       "      <td>0.0</td>\n",
       "      <td>1.0</td>\n",
       "      <td>1.0</td>\n",
       "      <td>3.0</td>\n",
       "      <td>0.0</td>\n",
       "      <td>0.0</td>\n",
       "      <td>0.0</td>\n",
       "      <td>0.0</td>\n",
       "      <td>5.0</td>\n",
       "      <td>0.0</td>\n",
       "    </tr>\n",
       "    <tr>\n",
       "      <th>615589</th>\n",
       "      <td>GSW</td>\n",
       "      <td>Brandon Rush</td>\n",
       "      <td>0</td>\n",
       "      <td>17</td>\n",
       "      <td>2.0</td>\n",
       "      <td>3.0</td>\n",
       "      <td>0.667</td>\n",
       "      <td>2.0</td>\n",
       "      <td>2.0</td>\n",
       "      <td>1.000</td>\n",
       "      <td>...</td>\n",
       "      <td>0.0</td>\n",
       "      <td>3.0</td>\n",
       "      <td>3.0</td>\n",
       "      <td>0.0</td>\n",
       "      <td>0.0</td>\n",
       "      <td>1.0</td>\n",
       "      <td>1.0</td>\n",
       "      <td>2.0</td>\n",
       "      <td>9.0</td>\n",
       "      <td>0.0</td>\n",
       "    </tr>\n",
       "    <tr>\n",
       "      <th>615599</th>\n",
       "      <td>GSW</td>\n",
       "      <td>Klay Thompson</td>\n",
       "      <td>0</td>\n",
       "      <td>26</td>\n",
       "      <td>7.0</td>\n",
       "      <td>11.0</td>\n",
       "      <td>0.636</td>\n",
       "      <td>4.0</td>\n",
       "      <td>6.0</td>\n",
       "      <td>0.667</td>\n",
       "      <td>...</td>\n",
       "      <td>0.0</td>\n",
       "      <td>3.0</td>\n",
       "      <td>3.0</td>\n",
       "      <td>4.0</td>\n",
       "      <td>1.0</td>\n",
       "      <td>0.0</td>\n",
       "      <td>1.0</td>\n",
       "      <td>2.0</td>\n",
       "      <td>18.0</td>\n",
       "      <td>0.0</td>\n",
       "    </tr>\n",
       "    <tr>\n",
       "      <th>615601</th>\n",
       "      <td>GSW</td>\n",
       "      <td>Richard Jefferson</td>\n",
       "      <td>0</td>\n",
       "      <td>16</td>\n",
       "      <td>2.0</td>\n",
       "      <td>3.0</td>\n",
       "      <td>0.667</td>\n",
       "      <td>2.0</td>\n",
       "      <td>2.0</td>\n",
       "      <td>1.000</td>\n",
       "      <td>...</td>\n",
       "      <td>1.0</td>\n",
       "      <td>4.0</td>\n",
       "      <td>5.0</td>\n",
       "      <td>2.0</td>\n",
       "      <td>0.0</td>\n",
       "      <td>1.0</td>\n",
       "      <td>0.0</td>\n",
       "      <td>3.0</td>\n",
       "      <td>9.0</td>\n",
       "      <td>0.0</td>\n",
       "    </tr>\n",
       "    <tr>\n",
       "      <th>615617</th>\n",
       "      <td>DEN</td>\n",
       "      <td>Corey Brewer</td>\n",
       "      <td>0</td>\n",
       "      <td>22</td>\n",
       "      <td>7.0</td>\n",
       "      <td>8.0</td>\n",
       "      <td>0.875</td>\n",
       "      <td>2.0</td>\n",
       "      <td>2.0</td>\n",
       "      <td>1.000</td>\n",
       "      <td>...</td>\n",
       "      <td>2.0</td>\n",
       "      <td>1.0</td>\n",
       "      <td>3.0</td>\n",
       "      <td>0.0</td>\n",
       "      <td>1.0</td>\n",
       "      <td>0.0</td>\n",
       "      <td>3.0</td>\n",
       "      <td>6.0</td>\n",
       "      <td>16.0</td>\n",
       "      <td>0.0</td>\n",
       "    </tr>\n",
       "  </tbody>\n",
       "</table>\n",
       "<p>5 rows × 23 columns</p>\n",
       "</div>"
      ],
      "text/plain": [
       "       Team        PLAYER_NAME Pos MIN  FGM   FGA  FG_PCT  FG3M  FG3A  \\\n",
       "615587  LAL         Steve Nash   0  15  2.0   3.0   0.667   1.0   1.0   \n",
       "615589  GSW       Brandon Rush   0  17  2.0   3.0   0.667   2.0   2.0   \n",
       "615599  GSW      Klay Thompson   0  26  7.0  11.0   0.636   4.0   6.0   \n",
       "615601  GSW  Richard Jefferson   0  16  2.0   3.0   0.667   2.0   2.0   \n",
       "615617  DEN       Corey Brewer   0  22  7.0   8.0   0.875   2.0   2.0   \n",
       "\n",
       "        FG3_PCT  ...  OREB  DREB  REB  AST  STL  BLK   TO   PF   PTS  \\\n",
       "615587    1.000  ...   0.0   1.0  1.0  3.0  0.0  0.0  0.0  0.0   5.0   \n",
       "615589    1.000  ...   0.0   3.0  3.0  0.0  0.0  1.0  1.0  2.0   9.0   \n",
       "615599    0.667  ...   0.0   3.0  3.0  4.0  1.0  0.0  1.0  2.0  18.0   \n",
       "615601    1.000  ...   1.0   4.0  5.0  2.0  0.0  1.0  0.0  3.0   9.0   \n",
       "615617    1.000  ...   2.0   1.0  3.0  0.0  1.0  0.0  3.0  6.0  16.0   \n",
       "\n",
       "        PLUS_MINUS  \n",
       "615587         0.0  \n",
       "615589         0.0  \n",
       "615599         0.0  \n",
       "615601         0.0  \n",
       "615617         0.0  \n",
       "\n",
       "[5 rows x 23 columns]"
      ]
     },
     "execution_count": 16,
     "metadata": {},
     "output_type": "execute_result"
    }
   ],
   "source": [
    "# good 3 pointers with perc over 0.5\n",
    "data_3Sh=data1[data1[\"FG3_PCT\"]>0.5]\n",
    "data_3Sh.tail()"
   ]
  },
  {
   "cell_type": "code",
   "execution_count": 17,
   "id": "d802c94e",
   "metadata": {
    "execution": {
     "iopub.execute_input": "2022-01-03T01:05:46.827258Z",
     "iopub.status.busy": "2022-01-03T01:05:46.826632Z",
     "iopub.status.idle": "2022-01-03T01:05:46.909753Z",
     "shell.execute_reply": "2022-01-03T01:05:46.909160Z",
     "shell.execute_reply.started": "2022-01-02T21:11:05.062373Z"
    },
    "papermill": {
     "duration": 0.136635,
     "end_time": "2022-01-03T01:05:46.909885",
     "exception": false,
     "start_time": "2022-01-03T01:05:46.773250",
     "status": "completed"
    },
    "tags": []
   },
   "outputs": [
    {
     "data": {
      "text/html": [
       "<div>\n",
       "<style scoped>\n",
       "    .dataframe tbody tr th:only-of-type {\n",
       "        vertical-align: middle;\n",
       "    }\n",
       "\n",
       "    .dataframe tbody tr th {\n",
       "        vertical-align: top;\n",
       "    }\n",
       "\n",
       "    .dataframe thead th {\n",
       "        text-align: right;\n",
       "    }\n",
       "</style>\n",
       "<table border=\"1\" class=\"dataframe\">\n",
       "  <thead>\n",
       "    <tr style=\"text-align: right;\">\n",
       "      <th></th>\n",
       "      <th>AST</th>\n",
       "    </tr>\n",
       "    <tr>\n",
       "      <th>Pos</th>\n",
       "      <th></th>\n",
       "    </tr>\n",
       "  </thead>\n",
       "  <tbody>\n",
       "    <tr>\n",
       "      <th>0</th>\n",
       "      <td>4545.0</td>\n",
       "    </tr>\n",
       "    <tr>\n",
       "      <th>C</th>\n",
       "      <td>74224.0</td>\n",
       "    </tr>\n",
       "    <tr>\n",
       "      <th>F</th>\n",
       "      <td>819724.0</td>\n",
       "    </tr>\n",
       "    <tr>\n",
       "      <th>G</th>\n",
       "      <td>429289.0</td>\n",
       "    </tr>\n",
       "  </tbody>\n",
       "</table>\n",
       "</div>"
      ],
      "text/plain": [
       "          AST\n",
       "Pos          \n",
       "0      4545.0\n",
       "C     74224.0\n",
       "F    819724.0\n",
       "G    429289.0"
      ]
     },
     "execution_count": 17,
     "metadata": {},
     "output_type": "execute_result"
    }
   ],
   "source": [
    "#Total number of assists for players of each position, in total: Forwards have to most assists in total \n",
    "data1.groupby(by=\"Pos\", dropna=False)[[\"AST\"]].sum()"
   ]
  },
  {
   "cell_type": "code",
   "execution_count": 18,
   "id": "0e5dd801",
   "metadata": {
    "execution": {
     "iopub.execute_input": "2022-01-03T01:05:47.015563Z",
     "iopub.status.busy": "2022-01-03T01:05:47.014945Z",
     "iopub.status.idle": "2022-01-03T01:05:47.093203Z",
     "shell.execute_reply": "2022-01-03T01:05:47.093720Z",
     "shell.execute_reply.started": "2022-01-02T21:21:32.154651Z"
    },
    "papermill": {
     "duration": 0.134268,
     "end_time": "2022-01-03T01:05:47.093898",
     "exception": false,
     "start_time": "2022-01-03T01:05:46.959630",
     "status": "completed"
    },
    "tags": []
   },
   "outputs": [
    {
     "data": {
      "text/html": [
       "<div>\n",
       "<style scoped>\n",
       "    .dataframe tbody tr th:only-of-type {\n",
       "        vertical-align: middle;\n",
       "    }\n",
       "\n",
       "    .dataframe tbody tr th {\n",
       "        vertical-align: top;\n",
       "    }\n",
       "\n",
       "    .dataframe thead th {\n",
       "        text-align: right;\n",
       "    }\n",
       "</style>\n",
       "<table border=\"1\" class=\"dataframe\">\n",
       "  <thead>\n",
       "    <tr style=\"text-align: right;\">\n",
       "      <th></th>\n",
       "      <th>FG3A</th>\n",
       "    </tr>\n",
       "    <tr>\n",
       "      <th>Pos</th>\n",
       "      <th></th>\n",
       "    </tr>\n",
       "  </thead>\n",
       "  <tbody>\n",
       "    <tr>\n",
       "      <th>0</th>\n",
       "      <td>4207.0</td>\n",
       "    </tr>\n",
       "    <tr>\n",
       "      <th>C</th>\n",
       "      <td>28521.0</td>\n",
       "    </tr>\n",
       "    <tr>\n",
       "      <th>F</th>\n",
       "      <td>1022300.0</td>\n",
       "    </tr>\n",
       "    <tr>\n",
       "      <th>G</th>\n",
       "      <td>374627.0</td>\n",
       "    </tr>\n",
       "  </tbody>\n",
       "</table>\n",
       "</div>"
      ],
      "text/plain": [
       "          FG3A\n",
       "Pos           \n",
       "0       4207.0\n",
       "C      28521.0\n",
       "F    1022300.0\n",
       "G     374627.0"
      ]
     },
     "execution_count": 18,
     "metadata": {},
     "output_type": "execute_result"
    }
   ],
   "source": [
    "# Same fo the Number of Field Goal attempts in total\n",
    "data1.groupby(by=\"Pos\", dropna=False)[[\"FG3A\"]].sum()"
   ]
  },
  {
   "cell_type": "code",
   "execution_count": 19,
   "id": "72a4d26b",
   "metadata": {
    "execution": {
     "iopub.execute_input": "2022-01-03T01:05:47.202050Z",
     "iopub.status.busy": "2022-01-03T01:05:47.201059Z",
     "iopub.status.idle": "2022-01-03T01:05:47.394754Z",
     "shell.execute_reply": "2022-01-03T01:05:47.395230Z",
     "shell.execute_reply.started": "2022-01-02T21:34:04.219154Z"
    },
    "papermill": {
     "duration": 0.248818,
     "end_time": "2022-01-03T01:05:47.395381",
     "exception": false,
     "start_time": "2022-01-03T01:05:47.146563",
     "status": "completed"
    },
    "tags": []
   },
   "outputs": [
    {
     "data": {
      "text/html": [
       "<div>\n",
       "<style scoped>\n",
       "    .dataframe tbody tr th:only-of-type {\n",
       "        vertical-align: middle;\n",
       "    }\n",
       "\n",
       "    .dataframe tbody tr th {\n",
       "        vertical-align: top;\n",
       "    }\n",
       "\n",
       "    .dataframe thead th {\n",
       "        text-align: right;\n",
       "    }\n",
       "</style>\n",
       "<table border=\"1\" class=\"dataframe\">\n",
       "  <thead>\n",
       "    <tr style=\"text-align: right;\">\n",
       "      <th></th>\n",
       "      <th>Team</th>\n",
       "      <th>PLAYER_NAME</th>\n",
       "      <th>Pos</th>\n",
       "      <th>MIN</th>\n",
       "      <th>FGM</th>\n",
       "      <th>FGA</th>\n",
       "      <th>FG_PCT</th>\n",
       "      <th>FG3M</th>\n",
       "      <th>FG3A</th>\n",
       "      <th>FG3_PCT</th>\n",
       "      <th>...</th>\n",
       "      <th>OREB</th>\n",
       "      <th>DREB</th>\n",
       "      <th>REB</th>\n",
       "      <th>AST</th>\n",
       "      <th>STL</th>\n",
       "      <th>BLK</th>\n",
       "      <th>TO</th>\n",
       "      <th>PF</th>\n",
       "      <th>PTS</th>\n",
       "      <th>PLUS_MINUS</th>\n",
       "    </tr>\n",
       "  </thead>\n",
       "  <tbody>\n",
       "    <tr>\n",
       "      <th>0</th>\n",
       "      <td>WAS</td>\n",
       "      <td>Bradley Beal</td>\n",
       "      <td>F</td>\n",
       "      <td>34:36</td>\n",
       "      <td>14.0</td>\n",
       "      <td>28.0</td>\n",
       "      <td>0.500</td>\n",
       "      <td>1.0</td>\n",
       "      <td>6.0</td>\n",
       "      <td>0.167</td>\n",
       "      <td>...</td>\n",
       "      <td>0.0</td>\n",
       "      <td>4.0</td>\n",
       "      <td>4.0</td>\n",
       "      <td>3.0</td>\n",
       "      <td>1.0</td>\n",
       "      <td>0.0</td>\n",
       "      <td>1.0</td>\n",
       "      <td>0.0</td>\n",
       "      <td>33.0</td>\n",
       "      <td>-22.0</td>\n",
       "    </tr>\n",
       "    <tr>\n",
       "      <th>1</th>\n",
       "      <td>WAS</td>\n",
       "      <td>Rui Hachimura</td>\n",
       "      <td>F</td>\n",
       "      <td>25:50</td>\n",
       "      <td>4.0</td>\n",
       "      <td>6.0</td>\n",
       "      <td>0.667</td>\n",
       "      <td>1.0</td>\n",
       "      <td>1.0</td>\n",
       "      <td>1.000</td>\n",
       "      <td>...</td>\n",
       "      <td>2.0</td>\n",
       "      <td>5.0</td>\n",
       "      <td>7.0</td>\n",
       "      <td>1.0</td>\n",
       "      <td>0.0</td>\n",
       "      <td>0.0</td>\n",
       "      <td>3.0</td>\n",
       "      <td>4.0</td>\n",
       "      <td>11.0</td>\n",
       "      <td>-6.0</td>\n",
       "    </tr>\n",
       "    <tr>\n",
       "      <th>5</th>\n",
       "      <td>WAS</td>\n",
       "      <td>Davis Bertans</td>\n",
       "      <td>F</td>\n",
       "      <td>23:43</td>\n",
       "      <td>0.0</td>\n",
       "      <td>4.0</td>\n",
       "      <td>0.000</td>\n",
       "      <td>0.0</td>\n",
       "      <td>4.0</td>\n",
       "      <td>0.000</td>\n",
       "      <td>...</td>\n",
       "      <td>0.0</td>\n",
       "      <td>2.0</td>\n",
       "      <td>2.0</td>\n",
       "      <td>0.0</td>\n",
       "      <td>0.0</td>\n",
       "      <td>0.0</td>\n",
       "      <td>0.0</td>\n",
       "      <td>6.0</td>\n",
       "      <td>0.0</td>\n",
       "      <td>-11.0</td>\n",
       "    </tr>\n",
       "    <tr>\n",
       "      <th>6</th>\n",
       "      <td>WAS</td>\n",
       "      <td>Ish Smith</td>\n",
       "      <td>F</td>\n",
       "      <td>23:20</td>\n",
       "      <td>5.0</td>\n",
       "      <td>14.0</td>\n",
       "      <td>0.357</td>\n",
       "      <td>0.0</td>\n",
       "      <td>2.0</td>\n",
       "      <td>0.000</td>\n",
       "      <td>...</td>\n",
       "      <td>0.0</td>\n",
       "      <td>1.0</td>\n",
       "      <td>1.0</td>\n",
       "      <td>3.0</td>\n",
       "      <td>0.0</td>\n",
       "      <td>0.0</td>\n",
       "      <td>1.0</td>\n",
       "      <td>1.0</td>\n",
       "      <td>10.0</td>\n",
       "      <td>-10.0</td>\n",
       "    </tr>\n",
       "    <tr>\n",
       "      <th>7</th>\n",
       "      <td>WAS</td>\n",
       "      <td>Daniel Gafford</td>\n",
       "      <td>F</td>\n",
       "      <td>20:00</td>\n",
       "      <td>3.0</td>\n",
       "      <td>4.0</td>\n",
       "      <td>0.750</td>\n",
       "      <td>0.0</td>\n",
       "      <td>0.0</td>\n",
       "      <td>0.000</td>\n",
       "      <td>...</td>\n",
       "      <td>4.0</td>\n",
       "      <td>2.0</td>\n",
       "      <td>6.0</td>\n",
       "      <td>1.0</td>\n",
       "      <td>1.0</td>\n",
       "      <td>1.0</td>\n",
       "      <td>1.0</td>\n",
       "      <td>1.0</td>\n",
       "      <td>11.0</td>\n",
       "      <td>-1.0</td>\n",
       "    </tr>\n",
       "  </tbody>\n",
       "</table>\n",
       "<p>5 rows × 23 columns</p>\n",
       "</div>"
      ],
      "text/plain": [
       "  Team     PLAYER_NAME Pos    MIN   FGM   FGA  FG_PCT  FG3M  FG3A  FG3_PCT  \\\n",
       "0  WAS    Bradley Beal   F  34:36  14.0  28.0   0.500   1.0   6.0    0.167   \n",
       "1  WAS   Rui Hachimura   F  25:50   4.0   6.0   0.667   1.0   1.0    1.000   \n",
       "5  WAS   Davis Bertans   F  23:43   0.0   4.0   0.000   0.0   4.0    0.000   \n",
       "6  WAS       Ish Smith   F  23:20   5.0  14.0   0.357   0.0   2.0    0.000   \n",
       "7  WAS  Daniel Gafford   F  20:00   3.0   4.0   0.750   0.0   0.0    0.000   \n",
       "\n",
       "   ...  OREB  DREB  REB  AST  STL  BLK   TO   PF   PTS  PLUS_MINUS  \n",
       "0  ...   0.0   4.0  4.0  3.0  1.0  0.0  1.0  0.0  33.0       -22.0  \n",
       "1  ...   2.0   5.0  7.0  1.0  0.0  0.0  3.0  4.0  11.0        -6.0  \n",
       "5  ...   0.0   2.0  2.0  0.0  0.0  0.0  0.0  6.0   0.0       -11.0  \n",
       "6  ...   0.0   1.0  1.0  3.0  0.0  0.0  1.0  1.0  10.0       -10.0  \n",
       "7  ...   4.0   2.0  6.0  1.0  1.0  1.0  1.0  1.0  11.0        -1.0  \n",
       "\n",
       "[5 rows x 23 columns]"
      ]
     },
     "execution_count": 19,
     "metadata": {},
     "output_type": "execute_result"
    }
   ],
   "source": [
    "#Lets seperate the forward players from the whole dataset:\n",
    "indices = np.where([data1.Pos == 'F'])[1]\n",
    "forwards=data1.loc[indices]\n",
    "forwards.head()"
   ]
  },
  {
   "cell_type": "code",
   "execution_count": 20,
   "id": "258c3587",
   "metadata": {
    "execution": {
     "iopub.execute_input": "2022-01-03T01:05:47.503011Z",
     "iopub.status.busy": "2022-01-03T01:05:47.502044Z",
     "iopub.status.idle": "2022-01-03T01:05:47.529693Z",
     "shell.execute_reply": "2022-01-03T01:05:47.530121Z",
     "shell.execute_reply.started": "2022-01-02T21:34:08.799369Z"
    },
    "papermill": {
     "duration": 0.083997,
     "end_time": "2022-01-03T01:05:47.530276",
     "exception": false,
     "start_time": "2022-01-03T01:05:47.446279",
     "status": "completed"
    },
    "tags": []
   },
   "outputs": [
    {
     "data": {
      "text/plain": [
       "Team                   CHA\n",
       "PLAYER_NAME    Jeff Adrien\n",
       "Pos                      F\n",
       "MIN                  38:39\n",
       "FGM                   23.0\n",
       "FGA                   35.0\n",
       "FG_PCT               0.657\n",
       "FG3M                   6.0\n",
       "FG3A                  11.0\n",
       "FG3_PCT              0.545\n",
       "FTM                   10.0\n",
       "FTA                   10.0\n",
       "FT_PCT                 1.0\n",
       "OREB                   1.0\n",
       "DREB                  12.0\n",
       "REB                   13.0\n",
       "AST                    0.0\n",
       "STL                    0.0\n",
       "BLK                    0.0\n",
       "TO                     0.0\n",
       "PF                     1.0\n",
       "PTS                   62.0\n",
       "PLUS_MINUS            34.0\n",
       "Name: 560348, dtype: object"
      ]
     },
     "execution_count": 20,
     "metadata": {},
     "output_type": "execute_result"
    }
   ],
   "source": [
    "# Lets see which forward player scored the most points in one game:\n",
    "column = forwards[\"PTS\"]\n",
    "max_index = column.idxmax()\n",
    "forwards.loc[max_index]\n",
    "\n",
    "#Jeff Adrein scored 62 points in a game!"
   ]
  },
  {
   "cell_type": "code",
   "execution_count": 21,
   "id": "7ff0342b",
   "metadata": {
    "execution": {
     "iopub.execute_input": "2022-01-03T01:05:47.638917Z",
     "iopub.status.busy": "2022-01-03T01:05:47.637914Z",
     "iopub.status.idle": "2022-01-03T01:05:47.664449Z",
     "shell.execute_reply": "2022-01-03T01:05:47.664942Z",
     "shell.execute_reply.started": "2022-01-02T21:50:20.085233Z"
    },
    "papermill": {
     "duration": 0.081912,
     "end_time": "2022-01-03T01:05:47.665109",
     "exception": false,
     "start_time": "2022-01-03T01:05:47.583197",
     "status": "completed"
    },
    "tags": []
   },
   "outputs": [
    {
     "data": {
      "text/plain": [
       "560348    62.0\n",
       "560349    62.0\n",
       "560350    62.0\n",
       "560351    62.0\n",
       "554017    61.0\n",
       "554018    61.0\n",
       "554019    61.0\n",
       "4299      60.0\n",
       "470960    60.0\n",
       "470961    60.0\n",
       "Name: PTS, dtype: float64"
      ]
     },
     "execution_count": 21,
     "metadata": {},
     "output_type": "execute_result"
    }
   ],
   "source": [
    "#Top 10 most points:\n",
    "forwards['PTS'].nlargest(10)"
   ]
  },
  {
   "cell_type": "markdown",
   "id": "fac80be8",
   "metadata": {
    "papermill": {
     "duration": 0.05172,
     "end_time": "2022-01-03T01:05:47.768345",
     "exception": false,
     "start_time": "2022-01-03T01:05:47.716625",
     "status": "completed"
    },
    "tags": []
   },
   "source": [
    "Lets see the distribution of number of players in different posts in the dataset. Not to mention that players are not equally distributed in different posts, number of forwards are the most and number of centers are the least."
   ]
  },
  {
   "cell_type": "code",
   "execution_count": 22,
   "id": "a33dc7f4",
   "metadata": {
    "execution": {
     "iopub.execute_input": "2022-01-03T01:05:47.948135Z",
     "iopub.status.busy": "2022-01-03T01:05:47.947430Z",
     "iopub.status.idle": "2022-01-03T01:05:48.077068Z",
     "shell.execute_reply": "2022-01-03T01:05:48.076435Z",
     "shell.execute_reply.started": "2022-01-02T21:52:42.372769Z"
    },
    "papermill": {
     "duration": 0.257657,
     "end_time": "2022-01-03T01:05:48.077202",
     "exception": false,
     "start_time": "2022-01-03T01:05:47.819545",
     "status": "completed"
    },
    "tags": []
   },
   "outputs": [
    {
     "data": {
      "text/plain": [
       "<AxesSubplot:ylabel='None'>"
      ]
     },
     "execution_count": 22,
     "metadata": {},
     "output_type": "execute_result"
    },
    {
     "data": {
      "image/png": "[encoded data removed]",
      "text/plain": [
       "<Figure size 432x288 with 1 Axes>"
      ]
     },
     "metadata": {},
     "output_type": "display_data"
    }
   ],
   "source": [
    "data1.groupby('Pos').size().plot(kind='pie', autopct='%.2f')\n",
    "#76 percents are forwards!"
   ]
  },
  {
   "cell_type": "code",
   "execution_count": 23,
   "id": "02d2b9c3",
   "metadata": {
    "execution": {
     "iopub.execute_input": "2022-01-03T01:05:48.187743Z",
     "iopub.status.busy": "2022-01-03T01:05:48.186755Z",
     "iopub.status.idle": "2022-01-03T01:05:48.195400Z",
     "shell.execute_reply": "2022-01-03T01:05:48.195966Z",
     "shell.execute_reply.started": "2022-01-02T22:07:55.610064Z"
    },
    "papermill": {
     "duration": 0.066402,
     "end_time": "2022-01-03T01:05:48.196128",
     "exception": false,
     "start_time": "2022-01-03T01:05:48.129726",
     "status": "completed"
    },
    "tags": []
   },
   "outputs": [
    {
     "data": {
      "text/plain": [
       "Team                        HOU\n",
       "PLAYER_NAME    Luc Mbah a Moute\n",
       "Pos                           F\n",
       "MIN                       25:43\n",
       "FGM                         5.0\n",
       "FGA                         5.0\n",
       "FG_PCT                      1.0\n",
       "FG3M                        3.0\n",
       "FG3A                        3.0\n",
       "FG3_PCT                     1.0\n",
       "FTM                         0.0\n",
       "FTA                         0.0\n",
       "FT_PCT                      0.0\n",
       "OREB                        0.0\n",
       "DREB                        4.0\n",
       "REB                         4.0\n",
       "AST                         1.0\n",
       "STL                         4.0\n",
       "BLK                         0.0\n",
       "TO                          2.0\n",
       "PF                          3.0\n",
       "PTS                        13.0\n",
       "PLUS_MINUS                 57.0\n",
       "Name: 422492, dtype: object"
      ]
     },
     "execution_count": 23,
     "metadata": {},
     "output_type": "execute_result"
    }
   ],
   "source": [
    "#See which player has the best plus-minus in a single game:\n",
    "column = data1[\"PLUS_MINUS\"]\n",
    "max_index = column.idxmax()\n",
    "data1.loc[max_index]"
   ]
  },
  {
   "cell_type": "markdown",
   "id": "96674b61",
   "metadata": {
    "papermill": {
     "duration": 0.052987,
     "end_time": "2022-01-03T01:05:48.302874",
     "exception": false,
     "start_time": "2022-01-03T01:05:48.249887",
     "status": "completed"
    },
    "tags": []
   },
   "source": [
    "Sometimes we need to define a new feature (column) based on two or three other columns in the dataset. The new features can bring new insight about the data. Lets define a simple feature based on offensive and defensive rebounds."
   ]
  },
  {
   "cell_type": "code",
   "execution_count": 24,
   "id": "19324766",
   "metadata": {
    "execution": {
     "iopub.execute_input": "2022-01-03T01:05:48.413471Z",
     "iopub.status.busy": "2022-01-03T01:05:48.412889Z",
     "iopub.status.idle": "2022-01-03T01:05:48.606066Z",
     "shell.execute_reply": "2022-01-03T01:05:48.605528Z",
     "shell.execute_reply.started": "2022-01-02T23:34:46.742418Z"
    },
    "papermill": {
     "duration": 0.24999,
     "end_time": "2022-01-03T01:05:48.606201",
     "exception": false,
     "start_time": "2022-01-03T01:05:48.356211",
     "status": "completed"
    },
    "tags": []
   },
   "outputs": [
    {
     "data": {
      "text/plain": [
       "Team                            CLE\n",
       "PLAYER_NAME      Zydrunas Ilgauskas\n",
       "Pos                               C\n",
       "MIN                           27:10\n",
       "FGM                             7.0\n",
       "FGA                            18.0\n",
       "FG_PCT                        0.389\n",
       "FG3M                            0.0\n",
       "FG3A                            0.0\n",
       "FG3_PCT                         0.0\n",
       "FTM                             4.0\n",
       "FTA                             6.0\n",
       "FT_PCT                        0.667\n",
       "OREB                           12.0\n",
       "DREB                            1.0\n",
       "REB                            13.0\n",
       "AST                             1.0\n",
       "STL                             1.0\n",
       "BLK                             4.0\n",
       "TO                              0.0\n",
       "PF                              3.0\n",
       "PTS                            18.0\n",
       "PLUS_MINUS                     22.0\n",
       "rebound_ratio                  12.0\n",
       "Name: 203444, dtype: object"
      ]
     },
     "execution_count": 24,
     "metadata": {},
     "output_type": "execute_result"
    }
   ],
   "source": [
    "#rato of offensive to defensive rebound\n",
    "data1['rebound_ratio']=data1['OREB']/data1['DREB']\n",
    "#finding the highest ratio (first, remove the rows with zero denominator)\n",
    "data_not_inf= data1[data1.DREB!=0]\n",
    "column = data_not_inf['rebound_ratio']\n",
    "max_index = column.idxmax()\n",
    "data_not_inf.loc[max_index]"
   ]
  },
  {
   "cell_type": "code",
   "execution_count": 25,
   "id": "fda886f3",
   "metadata": {
    "execution": {
     "iopub.execute_input": "2022-01-03T01:05:48.817673Z",
     "iopub.status.busy": "2022-01-03T01:05:48.816993Z",
     "iopub.status.idle": "2022-01-03T01:05:48.851013Z",
     "shell.execute_reply": "2022-01-03T01:05:48.850538Z",
     "shell.execute_reply.started": "2022-01-02T22:32:03.836433Z"
    },
    "papermill": {
     "duration": 0.189774,
     "end_time": "2022-01-03T01:05:48.851143",
     "exception": false,
     "start_time": "2022-01-03T01:05:48.661369",
     "status": "completed"
    },
    "tags": []
   },
   "outputs": [
    {
     "data": {
      "text/html": [
       "<div>\n",
       "<style scoped>\n",
       "    .dataframe tbody tr th:only-of-type {\n",
       "        vertical-align: middle;\n",
       "    }\n",
       "\n",
       "    .dataframe tbody tr th {\n",
       "        vertical-align: top;\n",
       "    }\n",
       "\n",
       "    .dataframe thead th {\n",
       "        text-align: right;\n",
       "    }\n",
       "</style>\n",
       "<table border=\"1\" class=\"dataframe\">\n",
       "  <thead>\n",
       "    <tr style=\"text-align: right;\">\n",
       "      <th></th>\n",
       "      <th>Team</th>\n",
       "      <th>PLAYER_NAME</th>\n",
       "      <th>Pos</th>\n",
       "      <th>MIN</th>\n",
       "      <th>FGM</th>\n",
       "      <th>FGA</th>\n",
       "      <th>FG_PCT</th>\n",
       "      <th>FG3M</th>\n",
       "      <th>FG3A</th>\n",
       "      <th>FG3_PCT</th>\n",
       "      <th>...</th>\n",
       "      <th>DREB</th>\n",
       "      <th>REB</th>\n",
       "      <th>AST</th>\n",
       "      <th>STL</th>\n",
       "      <th>BLK</th>\n",
       "      <th>TO</th>\n",
       "      <th>PF</th>\n",
       "      <th>PTS</th>\n",
       "      <th>PLUS_MINUS</th>\n",
       "      <th>rebound_ratio</th>\n",
       "    </tr>\n",
       "  </thead>\n",
       "  <tbody>\n",
       "    <tr>\n",
       "      <th>14</th>\n",
       "      <td>PHI</td>\n",
       "      <td>Danny Green</td>\n",
       "      <td>F</td>\n",
       "      <td>21:44</td>\n",
       "      <td>2.0</td>\n",
       "      <td>3.0</td>\n",
       "      <td>0.667</td>\n",
       "      <td>1.0</td>\n",
       "      <td>2.0</td>\n",
       "      <td>0.500</td>\n",
       "      <td>...</td>\n",
       "      <td>1.0</td>\n",
       "      <td>2.0</td>\n",
       "      <td>2.0</td>\n",
       "      <td>0.0</td>\n",
       "      <td>2.0</td>\n",
       "      <td>1.0</td>\n",
       "      <td>2.0</td>\n",
       "      <td>5.0</td>\n",
       "      <td>8.0</td>\n",
       "      <td>1.000000</td>\n",
       "    </tr>\n",
       "    <tr>\n",
       "      <th>15</th>\n",
       "      <td>PHI</td>\n",
       "      <td>Tobias Harris</td>\n",
       "      <td>F</td>\n",
       "      <td>23:17</td>\n",
       "      <td>9.0</td>\n",
       "      <td>13.0</td>\n",
       "      <td>0.692</td>\n",
       "      <td>1.0</td>\n",
       "      <td>3.0</td>\n",
       "      <td>0.333</td>\n",
       "      <td>...</td>\n",
       "      <td>9.0</td>\n",
       "      <td>9.0</td>\n",
       "      <td>1.0</td>\n",
       "      <td>1.0</td>\n",
       "      <td>0.0</td>\n",
       "      <td>1.0</td>\n",
       "      <td>2.0</td>\n",
       "      <td>19.0</td>\n",
       "      <td>11.0</td>\n",
       "      <td>0.000000</td>\n",
       "    </tr>\n",
       "    <tr>\n",
       "      <th>16</th>\n",
       "      <td>PHI</td>\n",
       "      <td>Joel Embiid</td>\n",
       "      <td>C</td>\n",
       "      <td>26:17</td>\n",
       "      <td>8.0</td>\n",
       "      <td>12.0</td>\n",
       "      <td>0.667</td>\n",
       "      <td>3.0</td>\n",
       "      <td>4.0</td>\n",
       "      <td>0.750</td>\n",
       "      <td>...</td>\n",
       "      <td>7.0</td>\n",
       "      <td>7.0</td>\n",
       "      <td>3.0</td>\n",
       "      <td>0.0</td>\n",
       "      <td>0.0</td>\n",
       "      <td>1.0</td>\n",
       "      <td>1.0</td>\n",
       "      <td>22.0</td>\n",
       "      <td>19.0</td>\n",
       "      <td>0.000000</td>\n",
       "    </tr>\n",
       "    <tr>\n",
       "      <th>17</th>\n",
       "      <td>PHI</td>\n",
       "      <td>Seth Curry</td>\n",
       "      <td>G</td>\n",
       "      <td>23:04</td>\n",
       "      <td>4.0</td>\n",
       "      <td>7.0</td>\n",
       "      <td>0.571</td>\n",
       "      <td>1.0</td>\n",
       "      <td>4.0</td>\n",
       "      <td>0.250</td>\n",
       "      <td>...</td>\n",
       "      <td>0.0</td>\n",
       "      <td>0.0</td>\n",
       "      <td>3.0</td>\n",
       "      <td>0.0</td>\n",
       "      <td>0.0</td>\n",
       "      <td>0.0</td>\n",
       "      <td>2.0</td>\n",
       "      <td>9.0</td>\n",
       "      <td>19.0</td>\n",
       "      <td>NaN</td>\n",
       "    </tr>\n",
       "    <tr>\n",
       "      <th>18</th>\n",
       "      <td>PHI</td>\n",
       "      <td>Ben Simmons</td>\n",
       "      <td>G</td>\n",
       "      <td>28:34</td>\n",
       "      <td>11.0</td>\n",
       "      <td>15.0</td>\n",
       "      <td>0.733</td>\n",
       "      <td>0.0</td>\n",
       "      <td>0.0</td>\n",
       "      <td>0.000</td>\n",
       "      <td>...</td>\n",
       "      <td>7.0</td>\n",
       "      <td>9.0</td>\n",
       "      <td>8.0</td>\n",
       "      <td>2.0</td>\n",
       "      <td>1.0</td>\n",
       "      <td>2.0</td>\n",
       "      <td>1.0</td>\n",
       "      <td>22.0</td>\n",
       "      <td>18.0</td>\n",
       "      <td>0.285714</td>\n",
       "    </tr>\n",
       "  </tbody>\n",
       "</table>\n",
       "<p>5 rows × 24 columns</p>\n",
       "</div>"
      ],
      "text/plain": [
       "   Team    PLAYER_NAME Pos    MIN   FGM   FGA  FG_PCT  FG3M  FG3A  FG3_PCT  \\\n",
       "14  PHI    Danny Green   F  21:44   2.0   3.0   0.667   1.0   2.0    0.500   \n",
       "15  PHI  Tobias Harris   F  23:17   9.0  13.0   0.692   1.0   3.0    0.333   \n",
       "16  PHI    Joel Embiid   C  26:17   8.0  12.0   0.667   3.0   4.0    0.750   \n",
       "17  PHI     Seth Curry   G  23:04   4.0   7.0   0.571   1.0   4.0    0.250   \n",
       "18  PHI    Ben Simmons   G  28:34  11.0  15.0   0.733   0.0   0.0    0.000   \n",
       "\n",
       "    ...  DREB  REB  AST  STL  BLK   TO   PF   PTS  PLUS_MINUS  rebound_ratio  \n",
       "14  ...   1.0  2.0  2.0  0.0  2.0  1.0  2.0   5.0         8.0       1.000000  \n",
       "15  ...   9.0  9.0  1.0  1.0  0.0  1.0  2.0  19.0        11.0       0.000000  \n",
       "16  ...   7.0  7.0  3.0  0.0  0.0  1.0  1.0  22.0        19.0       0.000000  \n",
       "17  ...   0.0  0.0  3.0  0.0  0.0  0.0  2.0   9.0        19.0            NaN  \n",
       "18  ...   7.0  9.0  8.0  2.0  1.0  2.0  1.0  22.0        18.0       0.285714  \n",
       "\n",
       "[5 rows x 24 columns]"
      ]
     },
     "execution_count": 25,
     "metadata": {},
     "output_type": "execute_result"
    }
   ],
   "source": [
    "#Seperating the entire rows of Philadelphia team players (their team id is PHI)\n",
    "#Seperating a team\n",
    "indices = np.where([data1.Team == 'PHI'])[1]\n",
    "Ph_players=data1.loc[indices]\n",
    "Ph_players.head()"
   ]
  },
  {
   "cell_type": "code",
   "execution_count": 26,
   "id": "5021e176",
   "metadata": {
    "execution": {
     "iopub.execute_input": "2022-01-03T01:05:48.963101Z",
     "iopub.status.busy": "2022-01-03T01:05:48.960961Z",
     "iopub.status.idle": "2022-01-03T01:05:48.968806Z",
     "shell.execute_reply": "2022-01-03T01:05:48.968279Z",
     "shell.execute_reply.started": "2022-01-02T22:34:30.042172Z"
    },
    "papermill": {
     "duration": 0.064665,
     "end_time": "2022-01-03T01:05:48.968937",
     "exception": false,
     "start_time": "2022-01-03T01:05:48.904272",
     "status": "completed"
    },
    "tags": []
   },
   "outputs": [
    {
     "data": {
      "text/plain": [
       "Team                       PHI\n",
       "PLAYER_NAME      Allen Iverson\n",
       "Pos                          G\n",
       "MIN                      42:01\n",
       "FGM                       17.0\n",
       "FGA                       36.0\n",
       "FG_PCT                   0.472\n",
       "FG3M                       2.0\n",
       "FG3A                       5.0\n",
       "FG3_PCT                    0.4\n",
       "FTM                       24.0\n",
       "FTA                       27.0\n",
       "FT_PCT                   0.889\n",
       "OREB                       1.0\n",
       "DREB                       3.0\n",
       "REB                        4.0\n",
       "AST                        6.0\n",
       "STL                        5.0\n",
       "BLK                        1.0\n",
       "TO                         3.0\n",
       "PF                         1.0\n",
       "PTS                       60.0\n",
       "PLUS_MINUS                27.0\n",
       "rebound_ratio         0.333333\n",
       "Name: 204305, dtype: object"
      ]
     },
     "execution_count": 26,
     "metadata": {},
     "output_type": "execute_result"
    }
   ],
   "source": [
    "# Which Philly player has the most scoring number in a game?\n",
    "column=Ph_players['PTS']\n",
    "a=column.argmax()\n",
    "Ph_players.iloc[a]\n",
    "\n",
    "# Of course the great Allen Iverson with 60 points!"
   ]
  },
  {
   "cell_type": "markdown",
   "id": "85993d15",
   "metadata": {
    "papermill": {
     "duration": 0.054532,
     "end_time": "2022-01-03T01:05:49.078240",
     "exception": false,
     "start_time": "2022-01-03T01:05:49.023708",
     "status": "completed"
    },
    "tags": []
   },
   "source": [
    "Now we are ready for the most interesting part! I want to use machine learning to predict the Post of the players, based on couple of our columns. Do you think Post of the player has anything to do with his rebounds, 3point shots or assists? Lets see! We uuse KNN and Decision trees to investigate this. But don't expect super hight accuracies like 99 percent! Anthing abouve 50 or 60% can be satisfying for this model, as there is not a very strong relationship necessarilly between the vairables."
   ]
  },
  {
   "cell_type": "code",
   "execution_count": 27,
   "id": "5ecb3246",
   "metadata": {
    "execution": {
     "iopub.execute_input": "2022-01-03T01:05:49.190569Z",
     "iopub.status.busy": "2022-01-03T01:05:49.189914Z",
     "iopub.status.idle": "2022-01-03T01:05:49.362570Z",
     "shell.execute_reply": "2022-01-03T01:05:49.363027Z",
     "shell.execute_reply.started": "2022-01-02T23:35:08.700394Z"
    },
    "papermill": {
     "duration": 0.230029,
     "end_time": "2022-01-03T01:05:49.363195",
     "exception": false,
     "start_time": "2022-01-03T01:05:49.133166",
     "status": "completed"
    },
    "tags": []
   },
   "outputs": [
    {
     "data": {
      "text/html": [
       "<div>\n",
       "<style scoped>\n",
       "    .dataframe tbody tr th:only-of-type {\n",
       "        vertical-align: middle;\n",
       "    }\n",
       "\n",
       "    .dataframe tbody tr th {\n",
       "        vertical-align: top;\n",
       "    }\n",
       "\n",
       "    .dataframe thead th {\n",
       "        text-align: right;\n",
       "    }\n",
       "</style>\n",
       "<table border=\"1\" class=\"dataframe\">\n",
       "  <thead>\n",
       "    <tr style=\"text-align: right;\">\n",
       "      <th></th>\n",
       "      <th>Team</th>\n",
       "      <th>PLAYER_NAME</th>\n",
       "      <th>Pos</th>\n",
       "      <th>MIN</th>\n",
       "      <th>FGM</th>\n",
       "      <th>FGA</th>\n",
       "      <th>FG_PCT</th>\n",
       "      <th>FG3M</th>\n",
       "      <th>FG3A</th>\n",
       "      <th>FG3_PCT</th>\n",
       "      <th>...</th>\n",
       "      <th>DREB</th>\n",
       "      <th>REB</th>\n",
       "      <th>AST</th>\n",
       "      <th>STL</th>\n",
       "      <th>BLK</th>\n",
       "      <th>TO</th>\n",
       "      <th>PF</th>\n",
       "      <th>PTS</th>\n",
       "      <th>PLUS_MINUS</th>\n",
       "      <th>rebound_ratio</th>\n",
       "    </tr>\n",
       "  </thead>\n",
       "  <tbody>\n",
       "    <tr>\n",
       "      <th>0</th>\n",
       "      <td>WAS</td>\n",
       "      <td>Bradley Beal</td>\n",
       "      <td>F</td>\n",
       "      <td>34:36</td>\n",
       "      <td>14.0</td>\n",
       "      <td>28.0</td>\n",
       "      <td>0.500</td>\n",
       "      <td>1.0</td>\n",
       "      <td>6.0</td>\n",
       "      <td>0.167</td>\n",
       "      <td>...</td>\n",
       "      <td>4.0</td>\n",
       "      <td>4.0</td>\n",
       "      <td>3.0</td>\n",
       "      <td>1.0</td>\n",
       "      <td>0.0</td>\n",
       "      <td>1.0</td>\n",
       "      <td>0.0</td>\n",
       "      <td>33.0</td>\n",
       "      <td>-22.0</td>\n",
       "      <td>0.0</td>\n",
       "    </tr>\n",
       "    <tr>\n",
       "      <th>1</th>\n",
       "      <td>WAS</td>\n",
       "      <td>Rui Hachimura</td>\n",
       "      <td>F</td>\n",
       "      <td>25:50</td>\n",
       "      <td>4.0</td>\n",
       "      <td>6.0</td>\n",
       "      <td>0.667</td>\n",
       "      <td>1.0</td>\n",
       "      <td>1.0</td>\n",
       "      <td>1.000</td>\n",
       "      <td>...</td>\n",
       "      <td>5.0</td>\n",
       "      <td>7.0</td>\n",
       "      <td>1.0</td>\n",
       "      <td>0.0</td>\n",
       "      <td>0.0</td>\n",
       "      <td>3.0</td>\n",
       "      <td>4.0</td>\n",
       "      <td>11.0</td>\n",
       "      <td>-6.0</td>\n",
       "      <td>0.4</td>\n",
       "    </tr>\n",
       "    <tr>\n",
       "      <th>2</th>\n",
       "      <td>WAS</td>\n",
       "      <td>Alex Len</td>\n",
       "      <td>C</td>\n",
       "      <td>12:11</td>\n",
       "      <td>3.0</td>\n",
       "      <td>5.0</td>\n",
       "      <td>0.600</td>\n",
       "      <td>0.0</td>\n",
       "      <td>0.0</td>\n",
       "      <td>0.000</td>\n",
       "      <td>...</td>\n",
       "      <td>2.0</td>\n",
       "      <td>5.0</td>\n",
       "      <td>0.0</td>\n",
       "      <td>1.0</td>\n",
       "      <td>0.0</td>\n",
       "      <td>0.0</td>\n",
       "      <td>2.0</td>\n",
       "      <td>6.0</td>\n",
       "      <td>-11.0</td>\n",
       "      <td>1.5</td>\n",
       "    </tr>\n",
       "    <tr>\n",
       "      <th>6</th>\n",
       "      <td>WAS</td>\n",
       "      <td>Ish Smith</td>\n",
       "      <td>F</td>\n",
       "      <td>23:20</td>\n",
       "      <td>5.0</td>\n",
       "      <td>14.0</td>\n",
       "      <td>0.357</td>\n",
       "      <td>0.0</td>\n",
       "      <td>2.0</td>\n",
       "      <td>0.000</td>\n",
       "      <td>...</td>\n",
       "      <td>1.0</td>\n",
       "      <td>1.0</td>\n",
       "      <td>3.0</td>\n",
       "      <td>0.0</td>\n",
       "      <td>0.0</td>\n",
       "      <td>1.0</td>\n",
       "      <td>1.0</td>\n",
       "      <td>10.0</td>\n",
       "      <td>-10.0</td>\n",
       "      <td>0.0</td>\n",
       "    </tr>\n",
       "    <tr>\n",
       "      <th>7</th>\n",
       "      <td>WAS</td>\n",
       "      <td>Daniel Gafford</td>\n",
       "      <td>F</td>\n",
       "      <td>20:00</td>\n",
       "      <td>3.0</td>\n",
       "      <td>4.0</td>\n",
       "      <td>0.750</td>\n",
       "      <td>0.0</td>\n",
       "      <td>0.0</td>\n",
       "      <td>0.000</td>\n",
       "      <td>...</td>\n",
       "      <td>2.0</td>\n",
       "      <td>6.0</td>\n",
       "      <td>1.0</td>\n",
       "      <td>1.0</td>\n",
       "      <td>1.0</td>\n",
       "      <td>1.0</td>\n",
       "      <td>1.0</td>\n",
       "      <td>11.0</td>\n",
       "      <td>-1.0</td>\n",
       "      <td>2.0</td>\n",
       "    </tr>\n",
       "  </tbody>\n",
       "</table>\n",
       "<p>5 rows × 24 columns</p>\n",
       "</div>"
      ],
      "text/plain": [
       "  Team     PLAYER_NAME Pos    MIN   FGM   FGA  FG_PCT  FG3M  FG3A  FG3_PCT  \\\n",
       "0  WAS    Bradley Beal   F  34:36  14.0  28.0   0.500   1.0   6.0    0.167   \n",
       "1  WAS   Rui Hachimura   F  25:50   4.0   6.0   0.667   1.0   1.0    1.000   \n",
       "2  WAS        Alex Len   C  12:11   3.0   5.0   0.600   0.0   0.0    0.000   \n",
       "6  WAS       Ish Smith   F  23:20   5.0  14.0   0.357   0.0   2.0    0.000   \n",
       "7  WAS  Daniel Gafford   F  20:00   3.0   4.0   0.750   0.0   0.0    0.000   \n",
       "\n",
       "   ...  DREB  REB  AST  STL  BLK   TO   PF   PTS  PLUS_MINUS  rebound_ratio  \n",
       "0  ...   4.0  4.0  3.0  1.0  0.0  1.0  0.0  33.0       -22.0            0.0  \n",
       "1  ...   5.0  7.0  1.0  0.0  0.0  3.0  4.0  11.0        -6.0            0.4  \n",
       "2  ...   2.0  5.0  0.0  1.0  0.0  0.0  2.0   6.0       -11.0            1.5  \n",
       "6  ...   1.0  1.0  3.0  0.0  0.0  1.0  1.0  10.0       -10.0            0.0  \n",
       "7  ...   2.0  6.0  1.0  1.0  1.0  1.0  1.0  11.0        -1.0            2.0  \n",
       "\n",
       "[5 rows x 24 columns]"
      ]
     },
     "execution_count": 27,
     "metadata": {},
     "output_type": "execute_result"
    }
   ],
   "source": [
    "#Selecting few columns as features to classify different positions as our labels\n",
    "\n",
    "goodplayers_ind = (data1[\"PTS\"] >5) & (data1[\"FGA\"] >3) & (data1[\"FG_PCT\"] >0.2) & (data1[\"Pos\"] !=0)\n",
    "#we removed the players with too bad stats to avoid impacting our models. You can see them as outliers!\n",
    "good_players=data1.loc[goodplayers_ind,:]\n",
    "good_players.head()"
   ]
  },
  {
   "cell_type": "code",
   "execution_count": 28,
   "id": "f85f53ce",
   "metadata": {
    "execution": {
     "iopub.execute_input": "2022-01-03T01:05:49.475636Z",
     "iopub.status.busy": "2022-01-03T01:05:49.475018Z",
     "iopub.status.idle": "2022-01-03T01:05:49.493325Z",
     "shell.execute_reply": "2022-01-03T01:05:49.492858Z",
     "shell.execute_reply.started": "2022-01-02T23:39:16.182339Z"
    },
    "papermill": {
     "duration": 0.075426,
     "end_time": "2022-01-03T01:05:49.493454",
     "exception": false,
     "start_time": "2022-01-03T01:05:49.418028",
     "status": "completed"
    },
    "tags": []
   },
   "outputs": [
    {
     "data": {
      "text/html": [
       "<div>\n",
       "<style scoped>\n",
       "    .dataframe tbody tr th:only-of-type {\n",
       "        vertical-align: middle;\n",
       "    }\n",
       "\n",
       "    .dataframe tbody tr th {\n",
       "        vertical-align: top;\n",
       "    }\n",
       "\n",
       "    .dataframe thead th {\n",
       "        text-align: right;\n",
       "    }\n",
       "</style>\n",
       "<table border=\"1\" class=\"dataframe\">\n",
       "  <thead>\n",
       "    <tr style=\"text-align: right;\">\n",
       "      <th></th>\n",
       "      <th>DREB</th>\n",
       "      <th>FG3A</th>\n",
       "      <th>AST</th>\n",
       "    </tr>\n",
       "  </thead>\n",
       "  <tbody>\n",
       "    <tr>\n",
       "      <th>0</th>\n",
       "      <td>4.0</td>\n",
       "      <td>6.0</td>\n",
       "      <td>3.0</td>\n",
       "    </tr>\n",
       "    <tr>\n",
       "      <th>1</th>\n",
       "      <td>5.0</td>\n",
       "      <td>1.0</td>\n",
       "      <td>1.0</td>\n",
       "    </tr>\n",
       "    <tr>\n",
       "      <th>2</th>\n",
       "      <td>2.0</td>\n",
       "      <td>0.0</td>\n",
       "      <td>0.0</td>\n",
       "    </tr>\n",
       "    <tr>\n",
       "      <th>6</th>\n",
       "      <td>1.0</td>\n",
       "      <td>2.0</td>\n",
       "      <td>3.0</td>\n",
       "    </tr>\n",
       "    <tr>\n",
       "      <th>7</th>\n",
       "      <td>2.0</td>\n",
       "      <td>0.0</td>\n",
       "      <td>1.0</td>\n",
       "    </tr>\n",
       "  </tbody>\n",
       "</table>\n",
       "</div>"
      ],
      "text/plain": [
       "   DREB  FG3A  AST\n",
       "0   4.0   6.0  3.0\n",
       "1   5.0   1.0  1.0\n",
       "2   2.0   0.0  0.0\n",
       "6   1.0   2.0  3.0\n",
       "7   2.0   0.0  1.0"
      ]
     },
     "execution_count": 28,
     "metadata": {},
     "output_type": "execute_result"
    }
   ],
   "source": [
    "#Defining out features and labels\n",
    "features= good_players[[\"DREB\",\"FG3A\",\"AST\"]]\n",
    "label=good_players[[\"Pos\"]]\n",
    "features.head()"
   ]
  },
  {
   "cell_type": "code",
   "execution_count": 29,
   "id": "998161b0",
   "metadata": {
    "execution": {
     "iopub.execute_input": "2022-01-03T01:05:49.609715Z",
     "iopub.status.busy": "2022-01-03T01:05:49.609132Z",
     "iopub.status.idle": "2022-01-03T01:05:49.760450Z",
     "shell.execute_reply": "2022-01-03T01:05:49.759851Z",
     "shell.execute_reply.started": "2022-01-02T23:40:11.827072Z"
    },
    "papermill": {
     "duration": 0.210334,
     "end_time": "2022-01-03T01:05:49.760595",
     "exception": false,
     "start_time": "2022-01-03T01:05:49.550261",
     "status": "completed"
    },
    "tags": []
   },
   "outputs": [
    {
     "data": {
      "text/plain": [
       "array([[ 0.01045874,  1.04980376,  0.09366792],\n",
       "       [ 0.37195323, -0.74236441, -0.67019951],\n",
       "       [-0.71253025, -1.10079805, -1.05213323],\n",
       "       ...,\n",
       "       [ 2.54092018, -1.10079805,  2.3852702 ],\n",
       "       [-0.71253025,  0.69137012, -1.05213323],\n",
       "       [ 0.73344772,  1.04980376,  0.09366792]])"
      ]
     },
     "execution_count": 29,
     "metadata": {},
     "output_type": "execute_result"
    }
   ],
   "source": [
    "#Process of standardization of our features\n",
    "\n",
    "from sklearn.pipeline import Pipeline\n",
    "from sklearn.preprocessing import StandardScaler\n",
    "num_pipeline = Pipeline([\n",
    "        ('std_scaler', StandardScaler()),\n",
    "    ])\n",
    "features_standard = num_pipeline.fit_transform(features)\n",
    "features_standard"
   ]
  },
  {
   "cell_type": "code",
   "execution_count": 30,
   "id": "958a394c",
   "metadata": {
    "execution": {
     "iopub.execute_input": "2022-01-03T01:05:49.880222Z",
     "iopub.status.busy": "2022-01-03T01:05:49.879559Z",
     "iopub.status.idle": "2022-01-03T01:05:49.882917Z",
     "shell.execute_reply": "2022-01-03T01:05:49.883366Z",
     "shell.execute_reply.started": "2022-01-02T23:40:58.026760Z"
    },
    "papermill": {
     "duration": 0.067606,
     "end_time": "2022-01-03T01:05:49.883515",
     "exception": false,
     "start_time": "2022-01-03T01:05:49.815909",
     "status": "completed"
    },
    "tags": []
   },
   "outputs": [
    {
     "data": {
      "text/plain": [
       "(       DREB      FG3A       AST\n",
       " 0  0.010459  1.049804  0.093668\n",
       " 1  0.371953 -0.742364 -0.670200\n",
       " 2 -0.712530 -1.100798 -1.052133\n",
       " 3 -1.074025 -0.383931  0.093668\n",
       " 4 -0.712530 -1.100798 -0.670200,\n",
       "   Pos\n",
       " 0   F\n",
       " 1   F\n",
       " 2   C\n",
       " 6   F\n",
       " 7   F)"
      ]
     },
     "execution_count": 30,
     "metadata": {},
     "output_type": "execute_result"
    }
   ],
   "source": [
    "features_dataframe = pd.DataFrame(features_standard, columns = ['DREB','FG3A','AST'])\n",
    "features_dataframe.head(), label.head()"
   ]
  },
  {
   "cell_type": "code",
   "execution_count": 31,
   "id": "298f8b37",
   "metadata": {
    "execution": {
     "iopub.execute_input": "2022-01-03T01:05:49.997673Z",
     "iopub.status.busy": "2022-01-03T01:05:49.997015Z",
     "iopub.status.idle": "2022-01-03T01:05:50.045611Z",
     "shell.execute_reply": "2022-01-03T01:05:50.046063Z",
     "shell.execute_reply.started": "2022-01-02T23:48:21.219643Z"
    },
    "papermill": {
     "duration": 0.106981,
     "end_time": "2022-01-03T01:05:50.046229",
     "exception": false,
     "start_time": "2022-01-03T01:05:49.939248",
     "status": "completed"
    },
    "tags": []
   },
   "outputs": [
    {
     "data": {
      "text/plain": [
       "Pos\n",
       "F      275287\n",
       "G       79687\n",
       "C       35425\n",
       "dtype: int64"
      ]
     },
     "execution_count": 31,
     "metadata": {},
     "output_type": "execute_result"
    }
   ],
   "source": [
    "#number of each position in our labels (as you see this data is not balanced category-wise)\n",
    "label.value_counts()"
   ]
  },
  {
   "cell_type": "code",
   "execution_count": 32,
   "id": "a97f32e4",
   "metadata": {
    "execution": {
     "iopub.execute_input": "2022-01-03T01:05:50.163908Z",
     "iopub.status.busy": "2022-01-03T01:05:50.163248Z",
     "iopub.status.idle": "2022-01-03T01:05:50.253627Z",
     "shell.execute_reply": "2022-01-03T01:05:50.254145Z",
     "shell.execute_reply.started": "2022-01-02T23:50:24.696666Z"
    },
    "papermill": {
     "duration": 0.151006,
     "end_time": "2022-01-03T01:05:50.254318",
     "exception": false,
     "start_time": "2022-01-03T01:05:50.103312",
     "status": "completed"
    },
    "tags": []
   },
   "outputs": [
    {
     "data": {
      "text/plain": [
       "((312319, 1), (78080, 1))"
      ]
     },
     "execution_count": 32,
     "metadata": {},
     "output_type": "execute_result"
    }
   ],
   "source": [
    "#split to train and test dataset\n",
    "from sklearn.model_selection import train_test_split\n",
    "X_train, X_test, y_train, y_test = train_test_split(features_dataframe,label, test_size = 0.2,random_state = 88, shuffle= True)\n",
    "y_train.shape,y_test.shape"
   ]
  },
  {
   "cell_type": "code",
   "execution_count": 33,
   "id": "8f05851a",
   "metadata": {
    "execution": {
     "iopub.execute_input": "2022-01-03T01:05:50.372833Z",
     "iopub.status.busy": "2022-01-03T01:05:50.372025Z",
     "iopub.status.idle": "2022-01-03T01:05:58.874482Z",
     "shell.execute_reply": "2022-01-03T01:05:58.873944Z",
     "shell.execute_reply.started": "2022-01-02T23:50:58.322385Z"
    },
    "papermill": {
     "duration": 8.563051,
     "end_time": "2022-01-03T01:05:58.874633",
     "exception": false,
     "start_time": "2022-01-03T01:05:50.311582",
     "status": "completed"
    },
    "tags": []
   },
   "outputs": [
    {
     "name": "stderr",
     "output_type": "stream",
     "text": [
      "/opt/conda/lib/python3.7/site-packages/ipykernel_launcher.py:6: DataConversionWarning: A column-vector y was passed when a 1d array was expected. Please change the shape of y to (n_samples, ), for example using ravel().\n",
      "  \n"
     ]
    },
    {
     "data": {
      "text/plain": [
       "KNeighborsClassifier(n_neighbors=50, p=1)"
      ]
     },
     "execution_count": 33,
     "metadata": {},
     "output_type": "execute_result"
    }
   ],
   "source": [
    "#KNN model\n",
    "\n",
    "from sklearn.neighbors import KNeighborsClassifier\n",
    "\n",
    "knn = KNeighborsClassifier(n_neighbors = 50, metric = 'minkowski', p = 1)\n",
    "knn.fit(X_train,y_train)"
   ]
  },
  {
   "cell_type": "code",
   "execution_count": 34,
   "id": "9a65c2e1",
   "metadata": {
    "execution": {
     "iopub.execute_input": "2022-01-03T01:05:58.996360Z",
     "iopub.status.busy": "2022-01-03T01:05:58.995343Z",
     "iopub.status.idle": "2022-01-03T01:06:03.293700Z",
     "shell.execute_reply": "2022-01-03T01:06:03.294157Z",
     "shell.execute_reply.started": "2022-01-02T23:56:38.238074Z"
    },
    "papermill": {
     "duration": 4.362187,
     "end_time": "2022-01-03T01:06:03.294326",
     "exception": false,
     "start_time": "2022-01-03T01:05:58.932139",
     "status": "completed"
    },
    "tags": []
   },
   "outputs": [
    {
     "data": {
      "text/plain": [
       "array([0.02, 0.56, 0.42])"
      ]
     },
     "execution_count": 34,
     "metadata": {},
     "output_type": "execute_result"
    }
   ],
   "source": [
    "pred=knn.predict_proba(X_test)\n",
    "pred[1]\n",
    "#The numbers indicate the probabilities of each label for the test data"
   ]
  },
  {
   "cell_type": "code",
   "execution_count": 35,
   "id": "2411ec55",
   "metadata": {
    "execution": {
     "iopub.execute_input": "2022-01-03T01:06:03.413646Z",
     "iopub.status.busy": "2022-01-03T01:06:03.413037Z",
     "iopub.status.idle": "2022-01-03T01:06:10.311411Z",
     "shell.execute_reply": "2022-01-03T01:06:10.311961Z",
     "shell.execute_reply.started": "2022-01-02T23:58:09.642580Z"
    },
    "papermill": {
     "duration": 6.95992,
     "end_time": "2022-01-03T01:06:10.312128",
     "exception": false,
     "start_time": "2022-01-03T01:06:03.352208",
     "status": "completed"
    },
    "tags": []
   },
   "outputs": [
    {
     "data": {
      "text/plain": [
       "F    68595\n",
       "G     7884\n",
       "C     1601\n",
       "dtype: int64"
      ]
     },
     "execution_count": 35,
     "metadata": {},
     "output_type": "execute_result"
    }
   ],
   "source": [
    "pred=pd.DataFrame(pred)\n",
    "pred_class=knn.predict(X_test)\n",
    "pred_class=pd.DataFrame(pred_class)\n",
    "pred_class.value_counts()"
   ]
  },
  {
   "cell_type": "code",
   "execution_count": 36,
   "id": "2400292e",
   "metadata": {
    "execution": {
     "iopub.execute_input": "2022-01-03T01:06:10.435456Z",
     "iopub.status.busy": "2022-01-03T01:06:10.434866Z",
     "iopub.status.idle": "2022-01-03T01:06:41.290421Z",
     "shell.execute_reply": "2022-01-03T01:06:41.290935Z",
     "shell.execute_reply.started": "2022-01-03T00:05:47.243960Z"
    },
    "papermill": {
     "duration": 30.918251,
     "end_time": "2022-01-03T01:06:41.291096",
     "exception": false,
     "start_time": "2022-01-03T01:06:10.372845",
     "status": "completed"
    },
    "tags": []
   },
   "outputs": [
    {
     "data": {
      "text/plain": [
       "(array([[  3510,  24581,    231],\n",
       "        [  2932, 206281,  10897],\n",
       "        [    13,  43147,  20727]]),\n",
       " 0.7380850988892766)"
      ]
     },
     "execution_count": 36,
     "metadata": {},
     "output_type": "execute_result"
    }
   ],
   "source": [
    "#evaluating the confustion matrix and accuracy\n",
    "\n",
    "predict=knn.predict(X_train)\n",
    "from sklearn.metrics import confusion_matrix\n",
    "from sklearn.metrics import accuracy_score\n",
    "confusion_matrix(y_train, predict), accuracy_score(y_train,predict)"
   ]
  },
  {
   "cell_type": "markdown",
   "id": "d5e1b4e6",
   "metadata": {
    "papermill": {
     "duration": 0.059168,
     "end_time": "2022-01-03T01:06:41.409152",
     "exception": false,
     "start_time": "2022-01-03T01:06:41.349984",
     "status": "completed"
    },
    "tags": []
   },
   "source": [
    "73 percent accurqcy is not bad!"
   ]
  },
  {
   "cell_type": "code",
   "execution_count": 37,
   "id": "301a0a51",
   "metadata": {
    "execution": {
     "iopub.execute_input": "2022-01-03T01:06:41.532659Z",
     "iopub.status.busy": "2022-01-03T01:06:41.532011Z",
     "iopub.status.idle": "2022-01-03T01:07:19.293725Z",
     "shell.execute_reply": "2022-01-03T01:07:19.294215Z",
     "shell.execute_reply.started": "2022-01-03T00:09:46.693897Z"
    },
    "papermill": {
     "duration": 37.823533,
     "end_time": "2022-01-03T01:07:19.294378",
     "exception": false,
     "start_time": "2022-01-03T01:06:41.470845",
     "status": "completed"
    },
    "tags": []
   },
   "outputs": [
    {
     "name": "stderr",
     "output_type": "stream",
     "text": [
      "/opt/conda/lib/python3.7/site-packages/sklearn/model_selection/_validation.py:862: DataConversionWarning: A column-vector y was passed when a 1d array was expected. Please change the shape of y to (n_samples, ), for example using ravel().\n",
      "  estimator.fit(X_train, y_train, **fit_params)\n",
      "/opt/conda/lib/python3.7/site-packages/sklearn/model_selection/_validation.py:862: DataConversionWarning: A column-vector y was passed when a 1d array was expected. Please change the shape of y to (n_samples, ), for example using ravel().\n",
      "  estimator.fit(X_train, y_train, **fit_params)\n",
      "/opt/conda/lib/python3.7/site-packages/sklearn/model_selection/_validation.py:862: DataConversionWarning: A column-vector y was passed when a 1d array was expected. Please change the shape of y to (n_samples, ), for example using ravel().\n",
      "  estimator.fit(X_train, y_train, **fit_params)\n"
     ]
    },
    {
     "data": {
      "text/plain": [
       "(array([[  3819,  24259,    244],\n",
       "        [  3426, 205740,  10944],\n",
       "        [    18,  43784,  20085]]),\n",
       " 0.735286678043923)"
      ]
     },
     "execution_count": 37,
     "metadata": {},
     "output_type": "execute_result"
    }
   ],
   "source": [
    "#Lets try with cross validation\n",
    "from sklearn.model_selection import cross_val_predict\n",
    "y_train_pred = cross_val_predict(knn, X_train, y_train, cv=3)\n",
    "confusion_matrix(y_train, y_train_pred), accuracy_score(y_train,y_train_pred)"
   ]
  },
  {
   "cell_type": "code",
   "execution_count": 38,
   "id": "4276aded",
   "metadata": {
    "execution": {
     "iopub.execute_input": "2022-01-03T01:07:19.416364Z",
     "iopub.status.busy": "2022-01-03T01:07:19.415788Z",
     "iopub.status.idle": "2022-01-03T01:07:26.038566Z",
     "shell.execute_reply": "2022-01-03T01:07:26.039057Z",
     "shell.execute_reply.started": "2022-01-03T00:16:50.146974Z"
    },
    "papermill": {
     "duration": 6.684887,
     "end_time": "2022-01-03T01:07:26.039233",
     "exception": false,
     "start_time": "2022-01-03T01:07:19.354346",
     "status": "completed"
    },
    "tags": []
   },
   "outputs": [
    {
     "data": {
      "text/plain": [
       "0.7351306352459016"
      ]
     },
     "execution_count": 38,
     "metadata": {},
     "output_type": "execute_result"
    }
   ],
   "source": [
    "predict_test=knn.predict(X_test)\n",
    "accuracy_score(y_test,predict_test)"
   ]
  },
  {
   "cell_type": "code",
   "execution_count": 39,
   "id": "5951e8cd",
   "metadata": {
    "execution": {
     "iopub.execute_input": "2022-01-03T01:07:26.167310Z",
     "iopub.status.busy": "2022-01-03T01:07:26.166587Z",
     "iopub.status.idle": "2022-01-03T01:07:28.060835Z",
     "shell.execute_reply": "2022-01-03T01:07:28.061299Z",
     "shell.execute_reply.started": "2022-01-03T00:20:44.138041Z"
    },
    "papermill": {
     "duration": 1.959634,
     "end_time": "2022-01-03T01:07:28.061467",
     "exception": false,
     "start_time": "2022-01-03T01:07:26.101833",
     "status": "completed"
    },
    "tags": []
   },
   "outputs": [
    {
     "data": {
      "text/plain": [
       "(0.7427149805167153, 0.7369620901639344)"
      ]
     },
     "execution_count": 39,
     "metadata": {},
     "output_type": "execute_result"
    }
   ],
   "source": [
    "#This time we use Decision Tree models\n",
    "from sklearn.tree import DecisionTreeClassifier\n",
    "from sklearn.metrics import accuracy_score\n",
    "\n",
    "Dt = DecisionTreeClassifier()\n",
    "Dt.fit(X_train,y_train)\n",
    "tree_predict = Dt.predict(X_train)\n",
    "tree_predict1=Dt.predict(X_test)\n",
    "accuracy_score(y_train, tree_predict),accuracy_score(y_test,tree_predict1)"
   ]
  },
  {
   "cell_type": "markdown",
   "id": "9a01f3f9",
   "metadata": {
    "papermill": {
     "duration": 0.062773,
     "end_time": "2022-01-03T01:07:28.185674",
     "exception": false,
     "start_time": "2022-01-03T01:07:28.122901",
     "status": "completed"
    },
    "tags": []
   },
   "source": [
    "again 73 percent accuracy is satisfying!"
   ]
  },
  {
   "cell_type": "markdown",
   "id": "5d960c2b",
   "metadata": {
    "papermill": {
     "duration": 0.063839,
     "end_time": "2022-01-03T01:07:28.310858",
     "exception": false,
     "start_time": "2022-01-03T01:07:28.247019",
     "status": "completed"
    },
    "tags": []
   },
   "source": [
    "In the last part of the notbook, lets use grid search to find the proper hyperparameters for our knn and decision tree model. Grid search helps us find the bes hyperparameters to run our models."
   ]
  },
  {
   "cell_type": "code",
   "execution_count": 40,
   "id": "5246471b",
   "metadata": {
    "execution": {
     "iopub.execute_input": "2022-01-03T01:07:28.437835Z",
     "iopub.status.busy": "2022-01-03T01:07:28.436892Z",
     "iopub.status.idle": "2022-01-03T01:11:00.154174Z",
     "shell.execute_reply": "2022-01-03T01:11:00.153659Z",
     "shell.execute_reply.started": "2022-01-03T00:34:42.257698Z"
    },
    "papermill": {
     "duration": 211.781342,
     "end_time": "2022-01-03T01:11:00.154318",
     "exception": false,
     "start_time": "2022-01-03T01:07:28.372976",
     "status": "completed"
    },
    "tags": []
   },
   "outputs": [
    {
     "name": "stdout",
     "output_type": "stream",
     "text": [
      "Fitting 3 folds for each of 16 candidates, totalling 48 fits\n"
     ]
    },
    {
     "name": "stderr",
     "output_type": "stream",
     "text": [
      "[Parallel(n_jobs=-1)]: Using backend LokyBackend with 4 concurrent workers.\n",
      "[Parallel(n_jobs=-1)]: Done  48 out of  48 | elapsed:  3.4min finished\n",
      "/opt/conda/lib/python3.7/site-packages/sklearn/model_selection/_search.py:765: DataConversionWarning: A column-vector y was passed when a 1d array was expected. Please change the shape of y to (n_samples, ), for example using ravel().\n",
      "  self.best_estimator_.fit(X, y, **fit_params)\n"
     ]
    },
    {
     "data": {
      "text/plain": [
       "(0.7343901659815626,\n",
       " KNeighborsClassifier(metric='euclidean', n_neighbors=40),\n",
       " {'metric': 'euclidean', 'n_neighbors': 40, 'weights': 'uniform'})"
      ]
     },
     "execution_count": 40,
     "metadata": {},
     "output_type": "execute_result"
    }
   ],
   "source": [
    "#using grid search on knn to find best hyperparameters\n",
    "\n",
    "from sklearn.model_selection import GridSearchCV\n",
    "grid_params= {\n",
    "    'n_neighbors':[5,10,20,40],\n",
    "    'weights': ['uniform','distance'],\n",
    "    'metric': ['euclidean','manhattan']\n",
    "}\n",
    "search=GridSearchCV(\n",
    "    KNeighborsClassifier(),\n",
    "    grid_params,\n",
    "    verbose=1,\n",
    "    cv=3,\n",
    "    n_jobs=-1\n",
    ")\n",
    "search_results=search.fit(X_train,y_train)\n",
    "\n",
    "search_results.best_score_, search_results.best_estimator_, search_results.best_params_"
   ]
  },
  {
   "cell_type": "code",
   "execution_count": 41,
   "id": "fc90076f",
   "metadata": {
    "execution": {
     "iopub.execute_input": "2022-01-03T01:11:00.281394Z",
     "iopub.status.busy": "2022-01-03T01:11:00.280755Z",
     "iopub.status.idle": "2022-01-03T01:11:57.699367Z",
     "shell.execute_reply": "2022-01-03T01:11:57.699886Z",
     "shell.execute_reply.started": "2022-01-03T00:49:29.642339Z"
    },
    "papermill": {
     "duration": 57.48535,
     "end_time": "2022-01-03T01:11:57.700051",
     "exception": false,
     "start_time": "2022-01-03T01:11:00.214701",
     "status": "completed"
    },
    "tags": []
   },
   "outputs": [
    {
     "data": {
      "text/plain": [
       "(0.7382259807183237,\n",
       " DecisionTreeClassifier(criterion='entropy', max_depth=9),\n",
       " {'criterion': 'entropy', 'max_depth': 9})"
      ]
     },
     "execution_count": 41,
     "metadata": {},
     "output_type": "execute_result"
    }
   ],
   "source": [
    "#using grid search on decision tree to find best hyperparameters\n",
    "\n",
    "param_grid = { 'criterion':['gini','entropy'],'max_depth': np.arange(3, 15)}\n",
    "search_tree = GridSearchCV(DecisionTreeClassifier(), param_grid, cv=3)\n",
    "search1_results=search_tree.fit(X_train,y_train)\n",
    "search1_results.best_score_, search1_results.best_estimator_, search1_results.best_params_"
   ]
  },
  {
   "cell_type": "markdown",
   "id": "c57850b7",
   "metadata": {
    "papermill": {
     "duration": 0.060794,
     "end_time": "2022-01-03T01:11:57.823216",
     "exception": false,
     "start_time": "2022-01-03T01:11:57.762422",
     "status": "completed"
    },
    "tags": []
   },
   "source": [
    "We are predicting the post of the player based on three features with 74 percent, which is acceptable"
   ]
  },
  {
   "cell_type": "markdown",
   "id": "082d1fca",
   "metadata": {
    "papermill": {
     "duration": 0.06325,
     "end_time": "2022-01-03T01:11:57.949335",
     "exception": false,
     "start_time": "2022-01-03T01:11:57.886085",
     "status": "completed"
    },
    "tags": []
   },
   "source": [
    "**Conclusion:**\n",
    "\n",
    "In this notebook, we studied some simple aspects of our NBA players dataset. We showed sport data analytics can use these datasets to know how each player performs. At the end, we deployed decision tree and knn machine learning models to predict Pos of players based on few of our columns. I would love to find more sophisticated data to study more complicated knowledge about the game!"
   ]
  },
  {
   "cell_type": "markdown",
   "id": "e30461cf",
   "metadata": {
    "papermill": {
     "duration": 0.062252,
     "end_time": "2022-01-03T01:11:58.074393",
     "exception": false,
     "start_time": "2022-01-03T01:11:58.012141",
     "status": "completed"
    },
    "tags": []
   },
   "source": []
  }
 ],
 "metadata": {
  "kernelspec": {
   "display_name": "Python 3",
   "language": "python",
   "name": "python3"
  },
  "language_info": {
   "codemirror_mode": {
    "name": "ipython",
    "version": 3
   },
   "file_extension": ".py",
   "mimetype": "text/x-python",
   "name": "python",
   "nbconvert_exporter": "python",
   "pygments_lexer": "ipython3",
   "version": "3.7.12"
  },
  "papermill": {
   "default_parameters": {},
   "duration": 390.992707,
   "end_time": "2022-01-03T01:11:58.948681",
   "environment_variables": {},
   "exception": null,
   "input_path": "__notebook__.ipynb",
   "output_path": "__notebook__.ipynb",
   "parameters": {},
   "start_time": "2022-01-03T01:05:27.955974",
   "version": "2.3.3"
  }
 },
 "nbformat": 4,
 "nbformat_minor": 5
}
